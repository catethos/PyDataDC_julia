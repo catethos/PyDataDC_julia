{
 "cells": [
  {
   "cell_type": "markdown",
   "metadata": {
    "nbpresent": {
     "id": "498efe1a-0ab8-440c-b0bc-2746b48b3738"
    },
    "slideshow": {
     "slide_type": "slide"
    }
   },
   "source": [
    "# Julia Tutorial\n",
    "\n",
    "## PyData DC 2016\n",
    "\n",
    "**Chase Coleman**"
   ]
  },
  {
   "cell_type": "markdown",
   "metadata": {
    "slideshow": {
     "slide_type": "subslide"
    }
   },
   "source": [
    "## What is needed to follow along\n",
    "\n",
    "Before we get started, anyone who wants to follow along should do two things:\n",
    "\n",
    "1. Get Julia by going to http://julialang.org/downloads/ and downloading the appropriate version of Julia\n",
    "2. Once you've installed Julia, open it and type `Pkg.add(\"IJulia\")` <-- This adds a Julia kernel to Jupyter and will allow you to open my notebook which you will download in step 3.\n",
    "3. Download this notebook and other materials by \"gitting\" them from https://github.com/cc7768/PyDataDC_julia\n",
    "\n",
    "Please do this as you come in and sit down."
   ]
  },
  {
   "cell_type": "markdown",
   "metadata": {
    "slideshow": {
     "slide_type": "slide"
    }
   },
   "source": [
    "# Who am I?\n",
    "\n",
    "* PhD student in economics at NYU Stern\n",
    "* Lead developer of [QuantEcon](http://quantecon.org/index.html)\n"
   ]
  },
  {
   "cell_type": "markdown",
   "metadata": {
    "slideshow": {
     "slide_type": "fragment"
    }
   },
   "source": [
    "Both of these roles build up to me trying Julia for the first time -- That and persistent harassment from [Spencer Lyon](http://spencerlyon.com/) who is also a PhD student in economics at NYU Stern and a lead developer of QuantEcon.\n",
    "\n",
    "**Note**: I'm not on the Julia development team, so nothing I say is official. This is the (possibly incoherent) ramblings of someone who knows a bit about Julia and thinks highly of what they are doing."
   ]
  },
  {
   "cell_type": "markdown",
   "metadata": {
    "slideshow": {
     "slide_type": "slide"
    }
   },
   "source": [
    "# What is Julia?\n",
    "\n",
    "[Julia](http://julialang.org/) is a new(ish) programming language designed to be both high-level and high-performant.\n",
    "\n",
    "Has an impressive number of contributors (530 to base Julia) for being such a young project, but the 3 co-founders are:\n",
    "\n",
    "* Jeff Bezanson\n",
    "* Stefan Karpinski\n",
    "* Viral B. Shah\n",
    "\n",
    "The current release is 0.5.0."
   ]
  },
  {
   "cell_type": "markdown",
   "metadata": {
    "slideshow": {
     "slide_type": "subslide"
    }
   },
   "source": [
    "## High-level\n",
    "\n",
    "* <font color=\"green\"> Simple syntax </font>\n",
    "* <font color=\"green\"> Dynamic types </font>\n",
    "* <font color=\"green\"> Prevents excess verbosity </font>\n",
    "* <font color=\"green\"> Rapid prototyping </font>"
   ]
  },
  {
   "cell_type": "markdown",
   "metadata": {
    "slideshow": {
     "slide_type": "subslide"
    }
   },
   "source": [
    "## (Potentially) High-performance\n",
    "\n",
    "* <font color=\"green\"> Compiled (JIT) </font>\n",
    "* <font color=\"green\"> Helps solve two language problem (Julia is mainly implemented in Julia) </font>\n",
    "\n",
    "* <font color=\"red\"> Sometimes naively written code suffers performance penalties (though this is true in all languages) </font>"
   ]
  },
  {
   "cell_type": "markdown",
   "metadata": {
    "slideshow": {
     "slide_type": "subslide"
    }
   },
   "source": [
    "## Hello World"
   ]
  },
  {
   "cell_type": "code",
   "execution_count": null,
   "metadata": {
    "collapsed": false
   },
   "outputs": [],
   "source": [
    "println(\"Hello Julia World\")"
   ]
  },
  {
   "cell_type": "markdown",
   "metadata": {
    "slideshow": {
     "slide_type": "slide"
    }
   },
   "source": [
    "## Syntax Overview\n",
    "\n",
    "Brief overview of basic Julia syntax"
   ]
  },
  {
   "cell_type": "code",
   "execution_count": null,
   "metadata": {
    "collapsed": false,
    "slideshow": {
     "slide_type": "subslide"
    }
   },
   "outputs": [],
   "source": [
    "# Learn by example\n",
    "function bisect(f::Function, a, b; maxiter=500, tol=1e-8)\n",
    "    fa, fb = f(a), f(b)\n",
    "    fa*fb > 0 ? error(\"f(a) and f(b) must have different signs\") : nothing\n",
    "\n",
    "    for i=1:maxiter\n",
    "        c = (a+b)/2\n",
    "        fc = f(c)\n",
    "\n",
    "        abs(fc) > tol ? nothing : return (c, fc)\n",
    "\n",
    "        if fa*fc > 0.0\n",
    "            a = c\n",
    "             fa = fc\n",
    "        else\n",
    "            b = c\n",
    "            fb = fc\n",
    "        end\n",
    "    end\n",
    "\n",
    "    error(\"Failed to converge in $maxiter iterations\")\n",
    "end"
   ]
  },
  {
   "cell_type": "markdown",
   "metadata": {
    "slideshow": {
     "slide_type": "subslide"
    }
   },
   "source": [
    "## Shorthand Function Definition"
   ]
  },
  {
   "cell_type": "code",
   "execution_count": null,
   "metadata": {
    "collapsed": false,
    "slideshow": {
     "slide_type": "-"
    }
   },
   "outputs": [],
   "source": [
    "f(x::Float64) = x^3;  # Normal function definition\n",
    "f1 = x -> x^3;  # Anonymous function"
   ]
  },
  {
   "cell_type": "code",
   "execution_count": null,
   "metadata": {
    "collapsed": false,
    "slideshow": {
     "slide_type": "-"
    }
   },
   "outputs": [],
   "source": [
    "println(bisect(f, -2.0, 0.5))\n",
    "println(bisect(f1, -2.0, 0.5))"
   ]
  },
  {
   "cell_type": "markdown",
   "metadata": {
    "slideshow": {
     "slide_type": "subslide"
    }
   },
   "source": [
    "## Comprehensions"
   ]
  },
  {
   "cell_type": "code",
   "execution_count": null,
   "metadata": {
    "collapsed": false,
    "slideshow": {
     "slide_type": "-"
    }
   },
   "outputs": [],
   "source": [
    "x = collect(linspace(0, 2π, 50))\n",
    "sin_x = [sin(i) for i in x];\n",
    "println(sin_x[1:5])"
   ]
  },
  {
   "cell_type": "markdown",
   "metadata": {
    "slideshow": {
     "slide_type": "subslide"
    }
   },
   "source": [
    "## Broadcasting with matrices\n",
    "\n",
    "Many matrix operations look like their Matlab counterparts"
   ]
  },
  {
   "cell_type": "code",
   "execution_count": null,
   "metadata": {
    "collapsed": false
   },
   "outputs": [],
   "source": [
    "a = eye(2);  # Identity matrix\n",
    "b = 2.0 * ones(2, 2);  # Matrix of all ones\n",
    "\n",
    "println(a ./ b)  # elementwise divide\n",
    "println(a .* b)  # elementwise multiply\n",
    "println(a*b)  # matrix multiplication\n",
    "println(a \\ b[:, 1])  # solve a x = b\n",
    "println(ones(2, 1) .+ ones(1, 3))  # Broadcasting tricks"
   ]
  },
  {
   "cell_type": "markdown",
   "metadata": {
    "slideshow": {
     "slide_type": "subslide"
    }
   },
   "source": [
    "## Vectorization\n",
    "\n",
    "There is a relatively new `.` convention (mimics the notation for broadcasting) in Julia that transforms scalar functions into a vectorized function -- If you're interested in the details, see this github [issue](https://github.com/JuliaLang/julia/pull/17300)"
   ]
  },
  {
   "cell_type": "code",
   "execution_count": null,
   "metadata": {
    "collapsed": false,
    "slideshow": {
     "slide_type": "-"
    }
   },
   "outputs": [],
   "source": [
    "f_x = f.(x)  # This function only knew how to operate on Float64s\n",
    "sin_x = sin.(x)\n",
    "println(sin_x[1:5])\n",
    "println(f_x[1:5])"
   ]
  },
  {
   "cell_type": "markdown",
   "metadata": {
    "slideshow": {
     "slide_type": "subslide"
    }
   },
   "source": [
    "## Call C and Fortran\n",
    "\n",
    "Read the [documentation](http://julia-ylwu.readthedocs.io/en/latest/manual/calling-c-and-fortran-code.html) for more information. Simple example below (calls log from math library):"
   ]
  },
  {
   "cell_type": "code",
   "execution_count": null,
   "metadata": {
    "collapsed": false,
    "slideshow": {
     "slide_type": "-"
    }
   },
   "outputs": [],
   "source": [
    "ccall((\"log\", \"libm\"), Float64, (Float64,), 1.0)"
   ]
  },
  {
   "cell_type": "markdown",
   "metadata": {
    "slideshow": {
     "slide_type": "slide"
    }
   },
   "source": [
    "# Types\n",
    "\n",
    "Understanding Julia's type system will help write smart \"Julian\" code. Two \"laws\" of Julia:\n",
    "\n",
    "* Everything in Julia has a type\n",
    "* Every type in Julia has a \"Parent type\" -- Parent-Child/Abstract Base Class"
   ]
  },
  {
   "cell_type": "markdown",
   "metadata": {
    "slideshow": {
     "slide_type": "subslide"
    }
   },
   "source": [
    "## Type Hierarchy Example\n",
    "\n",
    "![alt text](./images/Type-hierarchy-for-julia-numbers.png \"Type Hierarchy\")\n",
    "\n",
    "Image is from [wikibooks](https://en.wikibooks.org/wiki/Introducing_Julia/Types) and is licensed under [CC BY-SA](http://creativecommons.org/licenses/by-sa/4.0)"
   ]
  },
  {
   "cell_type": "code",
   "execution_count": null,
   "metadata": {
    "collapsed": false,
    "slideshow": {
     "slide_type": "subslide"
    }
   },
   "outputs": [],
   "source": [
    "println(typeof(1.0))\n",
    "println(typeof(1))\n",
    "println(typeof(true))\n",
    "println(typeof(\"A\"))\n",
    "println(typeof(\"ABC\"))\n",
    "println(typeof(Int8(10)))\n",
    "println(typeof(ones(3)))"
   ]
  },
  {
   "cell_type": "markdown",
   "metadata": {
    "slideshow": {
     "slide_type": "subslide"
    }
   },
   "source": [
    "## Multiple Dispatch\n",
    "\n",
    "**Disclaimer: I'm not a computer scientist, this is how I understand this concept and it is possibly wrong.**\n",
    "\n",
    "Object oriented languages, like Python, are by nature \"single dispatch.\" Single dispatch is where the functions are specialized based on the type of their first argument -- Think about the `self` argument for class methods. Multiple dispatch is where functions are \"specialized\" based on the types of all of arguments.\n",
    "\n",
    "To understand, let's see some examples."
   ]
  },
  {
   "cell_type": "code",
   "execution_count": null,
   "metadata": {
    "collapsed": false,
    "slideshow": {
     "slide_type": "subslide"
    }
   },
   "outputs": [],
   "source": [
    "# My dumb function\n",
    "function mdf(a::Any, b::Any)\n",
    "    println(\"The type of a is $(string(typeof(a)))\")\n",
    "    println(\"The type of b is $(string(typeof(b)))\")\n",
    "\n",
    "    return nothing\n",
    "end"
   ]
  },
  {
   "cell_type": "code",
   "execution_count": null,
   "metadata": {
    "collapsed": false,
    "slideshow": {
     "slide_type": "-"
    }
   },
   "outputs": [],
   "source": [
    "mdf(1, 1)\n",
    "mdf(sum, 1//2)"
   ]
  },
  {
   "cell_type": "code",
   "execution_count": null,
   "metadata": {
    "collapsed": false,
    "slideshow": {
     "slide_type": "subslide"
    }
   },
   "outputs": [],
   "source": [
    "mdf(a::Number, b) = println(\"a is a number\")\n",
    "mdf(a, b::Number) = println(\"b is a number\")\n",
    "\n",
    "function mdf(a::Number, b::Number)\n",
    "    println(\"Ha! We're both numbers!!!\")\n",
    "\n",
    "    return nothing\n",
    "end"
   ]
  },
  {
   "cell_type": "code",
   "execution_count": null,
   "metadata": {
    "collapsed": false,
    "slideshow": {
     "slide_type": "fragment"
    }
   },
   "outputs": [],
   "source": [
    "# Remember some of these returned something\n",
    "# different before we defined a more specialized method\n",
    "mdf(1, 1)\n",
    "mdf(sum, 1//2)\n",
    "mdf(0.0, sum)"
   ]
  },
  {
   "cell_type": "markdown",
   "metadata": {
    "slideshow": {
     "slide_type": "subslide"
    }
   },
   "source": [
    "## Type Parameters\n",
    "\n",
    "Notice that below when we ask Julia the type of an array it gives us some additional information -- In particular, it tells us `Array{Float64, 1}`.\n",
    "\n",
    "The information inside the curly brackets is referred to as \"type parameters.\" Type parameters will allow us to further specialize our functions."
   ]
  },
  {
   "cell_type": "code",
   "execution_count": null,
   "metadata": {
    "collapsed": false,
    "slideshow": {
     "slide_type": "-"
    }
   },
   "outputs": [],
   "source": [
    "typeof(ones(3))"
   ]
  },
  {
   "cell_type": "code",
   "execution_count": null,
   "metadata": {
    "collapsed": false,
    "slideshow": {
     "slide_type": "subslide"
    }
   },
   "outputs": [],
   "source": [
    "function mdf{T<:AbstractFloat}(a::Vector{T}, b::Vector{T})\n",
    "    println(\"a and b are vectors with some kind of Float\")\n",
    "\n",
    "    return nothing\n",
    "end\n",
    "\n",
    "function mdf{T<:Integer}(a::Vector{T}, b::Vector{T})\n",
    "    println(\"a and b are vectors with some kind of integer\")\n",
    "\n",
    "    return nothing\n",
    "end"
   ]
  },
  {
   "cell_type": "code",
   "execution_count": null,
   "metadata": {
    "collapsed": false
   },
   "outputs": [],
   "source": [
    "mdf(ones(3), ones(3))\n",
    "mdf(ones(Int, 3), ones(Int, 3))"
   ]
  },
  {
   "cell_type": "markdown",
   "metadata": {
    "slideshow": {
     "slide_type": "subslide"
    }
   },
   "source": [
    "## User Types\n",
    "\n",
    "User defined types in Julia are a good idea. If you write Julia code, you should use your own types.\n",
    "\n",
    "When you do start defining your own types, do so [intelligently](http://docs.julialang.org/en/release-0.5/manual/performance-tips/#type-declarations) and as always it is recommended that you RTFD."
   ]
  },
  {
   "cell_type": "markdown",
   "metadata": {
    "slideshow": {
     "slide_type": "subslide"
    }
   },
   "source": [
    "### Type Example"
   ]
  },
  {
   "cell_type": "code",
   "execution_count": null,
   "metadata": {
    "collapsed": false,
    "slideshow": {
     "slide_type": "-"
    }
   },
   "outputs": [],
   "source": [
    "# Type parameter means there will be a `\n",
    "type Point2d{T}\n",
    "    x::T\n",
    "    y::T\n",
    "end"
   ]
  },
  {
   "cell_type": "code",
   "execution_count": null,
   "metadata": {
    "collapsed": false,
    "slideshow": {
     "slide_type": "-"
    }
   },
   "outputs": [],
   "source": [
    "a = Point2d(\"Hello\", \"Point\")\n",
    "b = Point2d(1.0, 1.0)\n",
    "\n",
    "println(typeof(a))\n",
    "println(typeof(b))"
   ]
  },
  {
   "cell_type": "code",
   "execution_count": null,
   "metadata": {
    "collapsed": false,
    "slideshow": {
     "slide_type": "subslide"
    }
   },
   "outputs": [],
   "source": [
    "function Base.:+{T<:Number}(a::Point2d{T}, b::Point2d{T})\n",
    "    return Point2d(a.x+b.x, a.y+b.y)\n",
    "end"
   ]
  },
  {
   "cell_type": "code",
   "execution_count": null,
   "metadata": {
    "collapsed": false,
    "slideshow": {
     "slide_type": "-"
    }
   },
   "outputs": [],
   "source": [
    "a + a"
   ]
  },
  {
   "cell_type": "code",
   "execution_count": null,
   "metadata": {
    "collapsed": false,
    "slideshow": {
     "slide_type": "-"
    }
   },
   "outputs": [],
   "source": [
    "b + b"
   ]
  },
  {
   "cell_type": "markdown",
   "metadata": {
    "slideshow": {
     "slide_type": "subslide"
    }
   },
   "source": [
    "### Possible Uses?\n",
    "\n",
    "In economics, one of the outputs of a model is a law of motion for variables in an economy. If we are careful about defining types, we can get away with only defining one method to simulate all models.\n",
    "\n",
    "Simplified example below:"
   ]
  },
  {
   "cell_type": "code",
   "execution_count": 4,
   "metadata": {
    "collapsed": false,
    "slideshow": {
     "slide_type": "subslide"
    }
   },
   "outputs": [
    {
     "name": "stderr",
     "output_type": "stream",
     "text": [
      "WARNING: Method definition (::Type{Main.QLoM})(Float64) in module Main at In[1]:4 overwritten at In[4]:4.\n",
      "WARNING: Method definition (::Type{Main.QLoM})(Any) in module Main at In[1]:4 overwritten at In[4]:4.\n",
      "WARNING: Method definition QLoM(Float64) in module Main at In[1]:7 overwritten at In[4]:7.\n",
      "WARNING: Method definition (::Type{Main.ALoM})(Float64, Float64) in module Main at In[1]:10 overwritten at In[4]:10.\n",
      "WARNING: Method definition (::Type{Main.ALoM})(Any, Any) in module Main at In[1]:10 overwritten at In[4]:10.\n",
      "WARNING: Method definition ALoM(Float64) in module Main at In[1]:14 overwritten at In[4]:14.\n"
     ]
    }
   ],
   "source": [
    "abstract AbstractLoM\n",
    "\n",
    "type QLoM <: AbstractLoM\n",
    "    λ::Float64\n",
    "end\n",
    "\n",
    "(m::QLoM)(x::Float64) = m.λ * x * (1.0 - x)\n",
    "\n",
    "type ALoM <: AbstractLoM\n",
    "    α::Float64\n",
    "    β::Float64\n",
    "end\n",
    "\n",
    "(m::ALoM)(x::Float64) = m.α + m.β*x"
   ]
  },
  {
   "cell_type": "code",
   "execution_count": 5,
   "metadata": {
    "collapsed": false,
    "slideshow": {
     "slide_type": "subslide"
    }
   },
   "outputs": [
    {
     "name": "stderr",
     "output_type": "stream",
     "text": [
      "WARNING: Method definition simulate(Main.AbstractLoM, Any) in module Main at In[2]:2 overwritten at In[5]:2.\n",
      "WARNING: Method definition simulate(Main.AbstractLoM, Any, Any) in module Main at In[2]:2 overwritten at In[5]:2.\n"
     ]
    },
    {
     "data": {
      "text/plain": [
       "simulate (generic function with 2 methods)"
      ]
     },
     "execution_count": 5,
     "metadata": {},
     "output_type": "execute_result"
    }
   ],
   "source": [
    "function simulate(m::AbstractLoM, x, capT=100)\n",
    "    for i=1:capT\n",
    "        x = m(x)\n",
    "    end\n",
    "\n",
    "    return x\n",
    "end"
   ]
  },
  {
   "cell_type": "code",
   "execution_count": 10,
   "metadata": {
    "collapsed": false
   },
   "outputs": [
    {
     "name": "stdout",
     "output_type": "stream",
     "text": [
      "1.3524069147107647\n",
      "0.6562018479123551\n"
     ]
    }
   ],
   "source": [
    "println(simulate(ALoM(0.0, 1.01), 0.5))\n",
    "println(simulate(QLoM(3.8), 0.5))"
   ]
  },
  {
   "cell_type": "markdown",
   "metadata": {
    "slideshow": {
     "slide_type": "slide"
    }
   },
   "source": [
    "# Package System\n",
    "\n",
    "One of the tools that Julia provides is a built in package manager.\n",
    "\n",
    "All of the package manager commands are within the `Pkg` module, and are called by `Pkg.command(arg)`."
   ]
  },
  {
   "cell_type": "markdown",
   "metadata": {
    "slideshow": {
     "slide_type": "subslide"
    }
   },
   "source": [
    "Two types of packages\n",
    "\n",
    "* Registered: Mature package that has some sense of approval from the community\n",
    "* Unregistered: Less mature package that maybe is still developing basic functionality"
   ]
  },
  {
   "cell_type": "markdown",
   "metadata": {
    "slideshow": {
     "slide_type": "subslide"
    }
   },
   "source": [
    "## Adding and Removing Packages"
   ]
  },
  {
   "cell_type": "code",
   "execution_count": null,
   "metadata": {
    "collapsed": false,
    "slideshow": {
     "slide_type": "-"
    }
   },
   "outputs": [],
   "source": [
    "# Adds a registered package\n",
    "Pkg.add(\"ForwardDiff\")\n",
    "\n",
    "# Adds unregistered package\n",
    "Pkg.clone(\"https://github.com/cc7768/CHull2d.jl.git\")"
   ]
  },
  {
   "cell_type": "code",
   "execution_count": null,
   "metadata": {
    "collapsed": false,
    "slideshow": {
     "slide_type": "-"
    }
   },
   "outputs": [],
   "source": [
    "# This is pretty incomplete. Definitely want to remove it.\n",
    "Pkg.rm(\"CHull2d\")"
   ]
  },
  {
   "cell_type": "markdown",
   "metadata": {},
   "source": [
    "## Updating Packages\n",
    "\n",
    "Packages can be updated to their most recent version by using `Pkg.update()`\n",
    "\n",
    "Running this command will update:\n",
    "\n",
    "- Your local `METADATA`, which tracks all versions of registered packages\n",
    "- Registered packages to latest version\n",
    "- Unregistered packages to most recent commit on active branch\n",
    "\n",
    "Doesn't update \"dirty\" packages (`git status` $\\neq$ clean)"
   ]
  },
  {
   "cell_type": "markdown",
   "metadata": {
    "slideshow": {
     "slide_type": "subslide"
    }
   },
   "source": [
    "## Using Packages"
   ]
  },
  {
   "cell_type": "code",
   "execution_count": null,
   "metadata": {
    "collapsed": false,
    "slideshow": {
     "slide_type": "-"
    }
   },
   "outputs": [],
   "source": [
    "using ForwardDiff"
   ]
  },
  {
   "cell_type": "code",
   "execution_count": null,
   "metadata": {
    "collapsed": true,
    "slideshow": {
     "slide_type": "-"
    }
   },
   "outputs": [],
   "source": [
    "ForwardDiff.<tab>  # Shows everything in package namespace"
   ]
  },
  {
   "cell_type": "code",
   "execution_count": null,
   "metadata": {
    "collapsed": false,
    "slideshow": {
     "slide_type": "subslide"
    }
   },
   "outputs": [],
   "source": [
    "# Usually packages export specific functions, but in this case, nothing\n",
    "# got exported so you have to access its functions by ForwardDiff.function\n",
    "f(x) = cos(x) + 2*x^2 - 5*x\n",
    "ForwardDiff.derivative(f, 1.0)  # Using AD! Cool :)"
   ]
  },
  {
   "cell_type": "markdown",
   "metadata": {
    "slideshow": {
     "slide_type": "subslide"
    }
   },
   "source": [
    "## Plotting Packages\n",
    "\n",
    "At first glance it looks like a bit of a battle field\n",
    "\n",
    "* `PyPlot`\n",
    "* `Gadfly`\n",
    "* `PlotlyJS`\n",
    "* `GR`\n",
    "* `PGFPlots`\n",
    "* `UnicodePlots`\n",
    "* ...\n"
   ]
  },
  {
   "cell_type": "markdown",
   "metadata": {
    "slideshow": {
     "slide_type": "fragment"
    }
   },
   "source": [
    "Luckily, `Plots` gives us a simple set of commands to make plots and allows us access to most any of these plotting packages as the backend. Additionally, it prevents you from having to commit to any one plotting package and helps us leverage the best of each package.\n",
    "\n",
    "We will only do a simple example of this, but I highly recommend reading the Plots [documentation](https://juliaplots.github.io/). The documentation is thorough and well maintained (3 gold stars to Tom Breloff!)"
   ]
  },
  {
   "cell_type": "code",
   "execution_count": null,
   "metadata": {
    "collapsed": false,
    "slideshow": {
     "slide_type": "subslide"
    }
   },
   "outputs": [],
   "source": [
    "using Plots"
   ]
  },
  {
   "cell_type": "code",
   "execution_count": null,
   "metadata": {
    "collapsed": false,
    "slideshow": {
     "slide_type": "-"
    }
   },
   "outputs": [],
   "source": [
    "plotlyjs()\n",
    "# unicodeplots()\n",
    "# pyplot()\n",
    "\n",
    "plot(rand(10))"
   ]
  },
  {
   "cell_type": "code",
   "execution_count": null,
   "metadata": {
    "collapsed": false,
    "slideshow": {
     "slide_type": "subslide"
    }
   },
   "outputs": [],
   "source": [
    "# initialize the attractor\n",
    "n = 1500\n",
    "dt = 0.02\n",
    "σ, ρ, β = 10., 28., 8/3\n",
    "x, y, z = 1., 1., 1.\n",
    "\n",
    "# initialize a 3D plot with 1 empty series\n",
    "plt = path3d(1, xlim=(-25,25), ylim=(-25,25), zlim=(0,50),\n",
    "                xlab = \"x\", ylab = \"y\", zlab = \"z\",\n",
    "                title = \"Lorenz Attractor\", marker = 1)\n",
    "\n",
    "# build an animated gif, saving every 10th frame\n",
    "@gif for i=1:n\n",
    "    dx = σ*(y - x)     ; x += dt * dx\n",
    "    dy = x*(ρ - z) - y ; y += dt * dy\n",
    "    dz = x*y - β*z     ; z += dt * dz\n",
    "    push!(plt, x, y, z)\n",
    "end every 10"
   ]
  },
  {
   "cell_type": "markdown",
   "metadata": {
    "slideshow": {
     "slide_type": "slide"
    }
   },
   "source": [
    "# Performance \"gotchas\""
   ]
  },
  {
   "cell_type": "code",
   "execution_count": null,
   "metadata": {
    "collapsed": true,
    "slideshow": {
     "slide_type": "-"
    }
   },
   "outputs": [],
   "source": [
    "using BenchmarkTools"
   ]
  },
  {
   "cell_type": "markdown",
   "metadata": {
    "slideshow": {
     "slide_type": "subslide"
    }
   },
   "source": [
    "## Type Stability"
   ]
  },
  {
   "cell_type": "code",
   "execution_count": null,
   "metadata": {
    "collapsed": false,
    "slideshow": {
     "slide_type": "subslide"
    }
   },
   "outputs": [],
   "source": [
    "function my_sum_unstable(N::Int)\n",
    "    total = 0\n",
    "    for i=1:N\n",
    "        total += i / N\n",
    "    end\n",
    "\n",
    "    return total\n",
    "end\n",
    "\n",
    "function my_sum_stable(N::Int)\n",
    "    total = 0.0\n",
    "    for i=1:N\n",
    "        total += i / N\n",
    "    end\n",
    "\n",
    "    return total\n",
    "end"
   ]
  },
  {
   "cell_type": "code",
   "execution_count": null,
   "metadata": {
    "collapsed": false,
    "slideshow": {
     "slide_type": "subslide"
    }
   },
   "outputs": [],
   "source": [
    "@benchmark my_sum_stable(10_000_000)"
   ]
  },
  {
   "cell_type": "code",
   "execution_count": null,
   "metadata": {
    "collapsed": false,
    "slideshow": {
     "slide_type": "subslide"
    }
   },
   "outputs": [],
   "source": [
    "@benchmark my_sum_unstable(10_000_000)"
   ]
  },
  {
   "cell_type": "code",
   "execution_count": null,
   "metadata": {
    "collapsed": false,
    "slideshow": {
     "slide_type": "subslide"
    }
   },
   "outputs": [],
   "source": [
    "@code_warntype my_sum_stable(10)"
   ]
  },
  {
   "cell_type": "code",
   "execution_count": null,
   "metadata": {
    "collapsed": false,
    "slideshow": {
     "slide_type": "subslide"
    }
   },
   "outputs": [],
   "source": [
    "@code_warntype my_sum_unstable(10)"
   ]
  },
  {
   "cell_type": "markdown",
   "metadata": {
    "slideshow": {
     "slide_type": "subslide"
    }
   },
   "source": [
    "## Access Memory Columnwise\n",
    "\n",
    "Julia is column-major which is especially important to be aware of if you do most of your programming in Python (which is row-major)."
   ]
  },
  {
   "cell_type": "code",
   "execution_count": null,
   "metadata": {
    "collapsed": false,
    "slideshow": {
     "slide_type": "subslide"
    }
   },
   "outputs": [],
   "source": [
    "function column_sum(A)\n",
    "    nrow, ncol = size(A)\n",
    "\n",
    "    total = 0.0\n",
    "    for c=1:ncol\n",
    "        for r=1:nrow\n",
    "            total = total + A[r, c]\n",
    "        end\n",
    "    end\n",
    "\n",
    "    return total\n",
    "end\n",
    "\n",
    "function row_sum(A)\n",
    "    nrow, ncol = size(A)\n",
    "\n",
    "    total = 0.0\n",
    "    for r=1:nrow\n",
    "        for c=1:ncol\n",
    "            total = total + A[r, c]\n",
    "        end\n",
    "    end\n",
    "\n",
    "    return total\n",
    "end"
   ]
  },
  {
   "cell_type": "code",
   "execution_count": null,
   "metadata": {
    "collapsed": false,
    "slideshow": {
     "slide_type": "subslide"
    }
   },
   "outputs": [],
   "source": [
    "A = randn(10_000, 10_000);"
   ]
  },
  {
   "cell_type": "code",
   "execution_count": null,
   "metadata": {
    "collapsed": false,
    "slideshow": {
     "slide_type": "subslide"
    }
   },
   "outputs": [],
   "source": [
    "@benchmark column_sum(A)"
   ]
  },
  {
   "cell_type": "code",
   "execution_count": null,
   "metadata": {
    "collapsed": false,
    "slideshow": {
     "slide_type": "-"
    }
   },
   "outputs": [],
   "source": [
    "@benchmark row_sum(A)"
   ]
  },
  {
   "cell_type": "markdown",
   "metadata": {
    "slideshow": {
     "slide_type": "slide"
    }
   },
   "source": [
    "# Topics I don't have time for today but are worth knowing\n",
    "\n",
    "* [Metaprogramming](http://docs.julialang.org/en/release-0.5/manual/metaprogramming/)\n",
    "* [Parallel Processing](http://docs.julialang.org/en/release-0.5/stdlib/parallel/)\n",
    "* [Profiling](http://docs.julialang.org/en/release-0.5/stdlib/profile/)"
   ]
  }
 ],
 "metadata": {
  "anaconda-cloud": {},
  "celltoolbar": "Slideshow",
  "kernelspec": {
   "display_name": "Julia 0.5.0-rc4",
   "language": "julia",
   "name": "julia-0.5"
  },
  "language_info": {
   "file_extension": ".jl",
   "mimetype": "application/julia",
   "name": "julia",
   "version": "0.5.0"
  },
  "nbpresent": {
   "slides": {},
   "themes": {}
  }
 },
 "nbformat": 4,
 "nbformat_minor": 1
}
