{
 "cells": [
  {
   "cell_type": "markdown",
   "metadata": {
    "nbpresent": {
     "id": "498efe1a-0ab8-440c-b0bc-2746b48b3738"
    },
    "slideshow": {
     "slide_type": "slide"
    }
   },
   "source": [
    "# Julia Tutorial\n",
    "\n",
    "## PyData DC 2016\n",
    "\n",
    "**Chase Coleman**"
   ]
  },
  {
   "cell_type": "markdown",
   "metadata": {
    "slideshow": {
     "slide_type": "subslide"
    }
   },
   "source": [
    "## What is needed to follow along\n",
    "\n",
    "Before we get started, anyone who wants to follow along should do two things:\n",
    "\n",
    "1. Get Julia by going to http://julialang.org/downloads/ and downloading the appropriate version of Julia\n",
    "2. Once you've installed Julia, open it and type `Pkg.add(\"IJulia\")` <-- This adds a Julia kernel to Jupyter and will allow you to open my notebook which you will download in step 3.\n",
    "3. Download this notebook and other materials by \"gitting\" them from https://github.com/cc7768/PyDataDC_julia\n",
    "\n",
    "Please do this as you come in and sit down."
   ]
  },
  {
   "cell_type": "markdown",
   "metadata": {
    "slideshow": {
     "slide_type": "slide"
    }
   },
   "source": [
    "# Who am I?\n",
    "\n",
    "* PhD student in economics at NYU Stern\n",
    "* Lead developer of [QuantEcon](http://quantecon.org/index.html)\n"
   ]
  },
  {
   "cell_type": "markdown",
   "metadata": {
    "slideshow": {
     "slide_type": "fragment"
    }
   },
   "source": [
    "Both of these roles build up to me trying Julia for the first time -- That and persistent harassment from [Spencer Lyon](http://spencerlyon.com/) who is also a PhD student in economics at NYU Stern and a lead developer of QuantEcon.\n",
    "\n",
    "**Note**: I'm not on the Julia development team, so nothing I say is official. This is the (possibly incoherent) ramblings of someone who knows a bit about Julia and thinks highly of what they are doing."
   ]
  },
  {
   "cell_type": "markdown",
   "metadata": {
    "slideshow": {
     "slide_type": "slide"
    }
   },
   "source": [
    "# What is Julia?\n",
    "\n",
    "[Julia](http://julialang.org/) is a new(ish) programming language designed to be both high-level and high-performant.\n",
    "\n",
    "Has an impressive number of contributors (530 to base Julia) for being such a young project, but the 3 co-founders are:\n",
    "\n",
    "* Jeff Bezanson\n",
    "* Stefan Karpinski\n",
    "* Viral B. Shah\n",
    "\n",
    "The current release is 0.5.0."
   ]
  },
  {
   "cell_type": "markdown",
   "metadata": {
    "slideshow": {
     "slide_type": "subslide"
    }
   },
   "source": [
    "## High-level\n",
    "\n",
    "* <font color=\"green\"> Simple syntax </font>\n",
    "* <font color=\"green\"> Dynamic types </font>\n",
    "* <font color=\"green\"> Prevents excess verbosity </font>\n",
    "* <font color=\"green\"> Rapid prototyping </font>"
   ]
  },
  {
   "cell_type": "markdown",
   "metadata": {
    "slideshow": {
     "slide_type": "subslide"
    }
   },
   "source": [
    "## (Potentially) High-performance\n",
    "\n",
    "* <font color=\"green\"> Compiled (JIT) </font>\n",
    "* <font color=\"green\"> Helps solve two language problem (Julia is mainly implemented in Julia) </font>\n",
    "\n",
    "* <font color=\"red\"> Sometimes naively written code suffers performance penalties (though this is true in all languages) </font>"
   ]
  },
  {
   "cell_type": "markdown",
   "metadata": {
    "slideshow": {
     "slide_type": "subslide"
    }
   },
   "source": [
    "## Hello World"
   ]
  },
  {
   "cell_type": "code",
   "execution_count": null,
   "metadata": {
    "collapsed": false
   },
   "outputs": [],
   "source": [
    "println(\"Hello Julia World\")"
   ]
  },
  {
   "cell_type": "markdown",
   "metadata": {
    "slideshow": {
     "slide_type": "slide"
    }
   },
   "source": [
    "## Syntax Overview\n",
    "\n",
    "Brief overview of basic Julia syntax"
   ]
  },
  {
   "cell_type": "code",
   "execution_count": null,
   "metadata": {
    "collapsed": false,
    "slideshow": {
     "slide_type": "subslide"
    }
   },
   "outputs": [],
   "source": [
    "# Learn by example\n",
    "function bisect(f::Function, a, b; maxiter=500, tol=1e-8)\n",
    "    fa, fb = f(a), f(b)\n",
    "    fa*fb > 0 ? error(\"f(a) and f(b) must have different signs\") : nothing\n",
    "\n",
    "    for i=1:maxiter\n",
    "        c = (a+b)/2\n",
    "        fc = f(c)\n",
    "\n",
    "        abs(fc) > tol ? nothing : return (c, fc)\n",
    "\n",
    "        if fa*fc > 0.0\n",
    "            a = c\n",
    "             fa = fc\n",
    "        else\n",
    "            b = c\n",
    "            fb = fc\n",
    "        end\n",
    "    end\n",
    "\n",
    "    error(\"Failed to converge in $maxiter iterations\")\n",
    "end"
   ]
  },
  {
   "cell_type": "markdown",
   "metadata": {
    "slideshow": {
     "slide_type": "subslide"
    }
   },
   "source": [
    "## Shorthand Function Definition"
   ]
  },
  {
   "cell_type": "code",
   "execution_count": null,
   "metadata": {
    "collapsed": false,
    "slideshow": {
     "slide_type": "-"
    }
   },
   "outputs": [],
   "source": [
    "f(x::Float64) = x^3;  # Normal function definition\n",
    "f1 = x -> x^3;  # Anonymous function"
   ]
  },
  {
   "cell_type": "code",
   "execution_count": null,
   "metadata": {
    "collapsed": false,
    "slideshow": {
     "slide_type": "-"
    }
   },
   "outputs": [],
   "source": [
    "println(bisect(f, -2.0, 0.5))\n",
    "println(bisect(f1, -2.0, 0.5))"
   ]
  },
  {
   "cell_type": "markdown",
   "metadata": {
    "slideshow": {
     "slide_type": "subslide"
    }
   },
   "source": [
    "## Comprehensions"
   ]
  },
  {
   "cell_type": "code",
   "execution_count": null,
   "metadata": {
    "collapsed": false,
    "slideshow": {
     "slide_type": "-"
    }
   },
   "outputs": [],
   "source": [
    "x = collect(linspace(0, 2π, 50))\n",
    "sin_x = [sin(i) for i in x];\n",
    "println(sin_x[1:5])"
   ]
  },
  {
   "cell_type": "markdown",
   "metadata": {
    "slideshow": {
     "slide_type": "subslide"
    }
   },
   "source": [
    "## Broadcasting with matrices\n",
    "\n",
    "Many matrix operations look like their Matlab counterparts"
   ]
  },
  {
   "cell_type": "code",
   "execution_count": null,
   "metadata": {
    "collapsed": false
   },
   "outputs": [],
   "source": [
    "a = eye(2);  # Identity matrix\n",
    "b = 2.0 * ones(2, 2);  # Matrix of all ones\n",
    "\n",
    "println(a ./ b)  # elementwise divide\n",
    "println(a .* b)  # elementwise multiply\n",
    "println(a*b)  # matrix multiplication\n",
    "println(a \\ b[:, 1])  # solve a x = b\n",
    "println(ones(2, 1) .+ ones(1, 3))  # Broadcasting tricks"
   ]
  },
  {
   "cell_type": "markdown",
   "metadata": {
    "slideshow": {
     "slide_type": "subslide"
    }
   },
   "source": [
    "## Vectorization\n",
    "\n",
    "There is a relatively new `.` convention (mimics the notation for broadcasting) in Julia that transforms scalar functions into a vectorized function -- If you're interested in the details, see this github [issue](https://github.com/JuliaLang/julia/pull/17300)"
   ]
  },
  {
   "cell_type": "code",
   "execution_count": null,
   "metadata": {
    "collapsed": false,
    "slideshow": {
     "slide_type": "-"
    }
   },
   "outputs": [],
   "source": [
    "f_x = f.(x)  # This function only knew how to operate on Float64s\n",
    "sin_x = sin.(x)\n",
    "println(sin_x[1:5])\n",
    "println(f_x[1:5])"
   ]
  },
  {
   "cell_type": "markdown",
   "metadata": {
    "slideshow": {
     "slide_type": "subslide"
    }
   },
   "source": [
    "## Call C and Fortran\n",
    "\n",
    "Read the [documentation](http://julia-ylwu.readthedocs.io/en/latest/manual/calling-c-and-fortran-code.html) for more information. Simple example below (calls log from math library):"
   ]
  },
  {
   "cell_type": "code",
   "execution_count": 22,
   "metadata": {
    "collapsed": false,
    "slideshow": {
     "slide_type": "-"
    }
   },
   "outputs": [
    {
     "data": {
      "text/plain": [
       "0.0"
      ]
     },
     "execution_count": 22,
     "metadata": {},
     "output_type": "execute_result"
    }
   ],
   "source": [
    "ccall((\"log\", \"libm\"), Float64, (Float64,), 1.0)"
   ]
  },
  {
   "cell_type": "markdown",
   "metadata": {
    "slideshow": {
     "slide_type": "slide"
    }
   },
   "source": [
    "# Types\n",
    "\n",
    "Understanding Julia's type system will help write smart \"Julian\" code. Two \"laws\" of Julia:\n",
    "\n",
    "* Everything in Julia has a type\n",
    "* Every type in Julia has a \"Parent type\" -- Parent-Child/Abstract Base Class"
   ]
  },
  {
   "cell_type": "markdown",
   "metadata": {
    "slideshow": {
     "slide_type": "subslide"
    }
   },
   "source": [
    "## Type Hierarchy Example\n",
    "\n",
    "![alt text](./images/Type-hierarchy-for-julia-numbers.png \"Type Hierarchy\")\n",
    "\n",
    "Image is from [wikibooks](https://en.wikibooks.org/wiki/Introducing_Julia/Types) and is licensed under [CC BY-SA](http://creativecommons.org/licenses/by-sa/4.0)"
   ]
  },
  {
   "cell_type": "code",
   "execution_count": null,
   "metadata": {
    "collapsed": false,
    "slideshow": {
     "slide_type": "subslide"
    }
   },
   "outputs": [],
   "source": [
    "println(typeof(1.0))\n",
    "println(typeof(1))\n",
    "println(typeof(true))\n",
    "println(typeof(\"A\"))\n",
    "println(typeof(\"ABC\"))\n",
    "println(typeof(Int8(10)))\n",
    "println(typeof(ones(3)))"
   ]
  },
  {
   "cell_type": "markdown",
   "metadata": {
    "slideshow": {
     "slide_type": "subslide"
    }
   },
   "source": [
    "## Multiple Dispatch\n",
    "\n",
    "**Disclaimer: I'm not a computer scientist, this is how I understand this concept and it is possibly wrong.**\n",
    "\n",
    "Object oriented languages, like Python, are by nature \"single dispatch.\" Single dispatch is where the functions are specialized based on the type of their first argument -- Think about the `self` argument for class methods. Multiple dispatch is where functions are \"specialized\" based on the types of all of arguments.\n",
    "\n",
    "To understand, let's see some examples."
   ]
  },
  {
   "cell_type": "code",
   "execution_count": null,
   "metadata": {
    "collapsed": false,
    "slideshow": {
     "slide_type": "subslide"
    }
   },
   "outputs": [],
   "source": [
    "# My dumb function\n",
    "function mdf(a::Any, b::Any)\n",
    "    println(\"The type of a is $(string(typeof(a)))\")\n",
    "    println(\"The type of b is $(string(typeof(b)))\")\n",
    "\n",
    "    return nothing\n",
    "end"
   ]
  },
  {
   "cell_type": "code",
   "execution_count": null,
   "metadata": {
    "collapsed": false,
    "slideshow": {
     "slide_type": "-"
    }
   },
   "outputs": [],
   "source": [
    "mdf(1, 1)\n",
    "mdf(sum, 1//2)"
   ]
  },
  {
   "cell_type": "code",
   "execution_count": null,
   "metadata": {
    "collapsed": false,
    "slideshow": {
     "slide_type": "subslide"
    }
   },
   "outputs": [],
   "source": [
    "mdf(a::Number, b) = println(\"a is a number\")\n",
    "mdf(a, b::Number) = println(\"b is a number\")\n",
    "\n",
    "function mdf(a::Number, b::Number)\n",
    "    println(\"Ha! We're both numbers!!!\")\n",
    "\n",
    "    return nothing\n",
    "end"
   ]
  },
  {
   "cell_type": "code",
   "execution_count": null,
   "metadata": {
    "collapsed": false,
    "slideshow": {
     "slide_type": "fragment"
    }
   },
   "outputs": [],
   "source": [
    "# Remember some of these returned something\n",
    "# different before we defined a more specialized method\n",
    "mdf(1, 1)\n",
    "mdf(sum, 1//2)\n",
    "mdf(0.0, sum)"
   ]
  },
  {
   "cell_type": "markdown",
   "metadata": {
    "slideshow": {
     "slide_type": "subslide"
    }
   },
   "source": [
    "## Type Parameters\n",
    "\n",
    "Notice that below when we ask Julia the type of an array it gives us some additional information -- In particular, it tells us `Array{Float64, 1}`.\n",
    "\n",
    "The information inside the curly brackets is referred to as \"type parameters.\" Type parameters will allow us to further specialize our functions."
   ]
  },
  {
   "cell_type": "code",
   "execution_count": null,
   "metadata": {
    "collapsed": false,
    "slideshow": {
     "slide_type": "-"
    }
   },
   "outputs": [],
   "source": [
    "typeof(ones(3))"
   ]
  },
  {
   "cell_type": "code",
   "execution_count": null,
   "metadata": {
    "collapsed": false,
    "slideshow": {
     "slide_type": "subslide"
    }
   },
   "outputs": [],
   "source": [
    "function mdf{T<:AbstractFloat}(a::Vector{T}, b::Vector{T})\n",
    "    println(\"a and b are vectors with some kind of Float\")\n",
    "\n",
    "    return nothing\n",
    "end\n",
    "\n",
    "function mdf{T<:Integer}(a::Vector{T}, b::Vector{T})\n",
    "    println(\"a and b are vectors with some kind of integer\")\n",
    "\n",
    "    return nothing\n",
    "end"
   ]
  },
  {
   "cell_type": "code",
   "execution_count": null,
   "metadata": {
    "collapsed": false
   },
   "outputs": [],
   "source": [
    "mdf(ones(3), ones(3))\n",
    "mdf(ones(Int, 3), ones(Int, 3))"
   ]
  },
  {
   "cell_type": "markdown",
   "metadata": {
    "slideshow": {
     "slide_type": "subslide"
    }
   },
   "source": [
    "## User Types\n",
    "\n",
    "User defined types in Julia are a good idea. If you write Julia code, you should use your own types.\n",
    "\n",
    "When you do start defining your own types, do so [intelligently](http://docs.julialang.org/en/release-0.5/manual/performance-tips/#type-declarations) and as always it is recommended that you RTFD."
   ]
  },
  {
   "cell_type": "markdown",
   "metadata": {
    "slideshow": {
     "slide_type": "subslide"
    }
   },
   "source": [
    "### Type Example"
   ]
  },
  {
   "cell_type": "markdown",
   "metadata": {
    "slideshow": {
     "slide_type": "slide"
    }
   },
   "source": [
    "# Package System\n",
    "\n",
    "One of the tools that Julia provides is a built in package manager.\n",
    "\n",
    "All of the package manager commands are within the `Pkg` module, and are called by `Pkg.command(arg)`."
   ]
  },
  {
   "cell_type": "markdown",
   "metadata": {
    "slideshow": {
     "slide_type": "subslide"
    }
   },
   "source": [
    "Two types of packages\n",
    "\n",
    "* Registered: Mature package that has some sense of approval from the community\n",
    "* Unregistered: Less mature package that maybe is still developing basic functionality"
   ]
  },
  {
   "cell_type": "markdown",
   "metadata": {
    "slideshow": {
     "slide_type": "subslide"
    }
   },
   "source": [
    "## Adding and Removing Packages"
   ]
  },
  {
   "cell_type": "code",
   "execution_count": null,
   "metadata": {
    "collapsed": false,
    "slideshow": {
     "slide_type": "-"
    }
   },
   "outputs": [],
   "source": [
    "# Adds a registered package\n",
    "Pkg.add(\"ForwardDiff\")\n",
    "\n",
    "# Adds unregistered package\n",
    "Pkg.clone(\"https://github.com/cc7768/CHull2d.jl.git\")"
   ]
  },
  {
   "cell_type": "code",
   "execution_count": 32,
   "metadata": {
    "collapsed": false,
    "slideshow": {
     "slide_type": "-"
    }
   },
   "outputs": [
    {
     "name": "stderr",
     "output_type": "stream",
     "text": [
      "INFO: Nothing to be done\n"
     ]
    }
   ],
   "source": [
    "# This is pretty incomplete. Definitely want to remove it.\n",
    "Pkg.rm(\"CHull2d\")"
   ]
  },
  {
   "cell_type": "markdown",
   "metadata": {},
   "source": [
    "## Updating Packages\n",
    "\n",
    "Packages can be updated to their most recent version by using `Pkg.update()`\n",
    "\n",
    "Running this command will update:\n",
    "\n",
    "- Your local `METADATA`, which tracks all versions of registered packages\n",
    "- Registered packages to latest version\n",
    "- Unregistered packages to most recent commit on active branch\n",
    "\n",
    "Doesn't update \"dirty\" packages (`git status` $\\neq$ clean)"
   ]
  },
  {
   "cell_type": "markdown",
   "metadata": {
    "slideshow": {
     "slide_type": "subslide"
    }
   },
   "source": [
    "## Using Packages"
   ]
  },
  {
   "cell_type": "code",
   "execution_count": 23,
   "metadata": {
    "collapsed": false,
    "slideshow": {
     "slide_type": "-"
    }
   },
   "outputs": [
    {
     "name": "stderr",
     "output_type": "stream",
     "text": [
      "INFO: Precompiling module ForwardDiff.\n"
     ]
    }
   ],
   "source": [
    "using ForwardDiff"
   ]
  },
  {
   "cell_type": "code",
   "execution_count": null,
   "metadata": {
    "collapsed": true,
    "slideshow": {
     "slide_type": "-"
    }
   },
   "outputs": [],
   "source": [
    "ForwardDiff.<tab>  # Shows everything in package namespace"
   ]
  },
  {
   "cell_type": "code",
   "execution_count": 28,
   "metadata": {
    "collapsed": false,
    "slideshow": {
     "slide_type": "subslide"
    }
   },
   "outputs": [
    {
     "name": "stderr",
     "output_type": "stream",
     "text": [
      "WARNING: Method definition f(Any) in module Main at In[27]:1 overwritten at In[28]:1.\n"
     ]
    },
    {
     "data": {
      "text/plain": [
       "-1.8414709848078967"
      ]
     },
     "execution_count": 28,
     "metadata": {},
     "output_type": "execute_result"
    }
   ],
   "source": [
    "# Usually packages export specific functions, but in this case, nothing\n",
    "# got exported so you have to access its functions by ForwardDiff.function\n",
    "f(x) = cos(x) + 2*x^2 - 5*x\n",
    "ForwardDiff.derivative(f, 1.0)  # Using AD! Cool :)"
   ]
  },
  {
   "cell_type": "markdown",
   "metadata": {
    "slideshow": {
     "slide_type": "subslide"
    }
   },
   "source": [
    "## Plotting Packages\n",
    "\n",
    "At first glance it looks like a bit of a battle field\n",
    "\n",
    "* `PyPlot`\n",
    "* `Gadfly`\n",
    "* `PlotlyJS`\n",
    "* `GR`\n",
    "* `PGFPlots`\n",
    "* `UnicodePlots`\n",
    "* ...\n"
   ]
  },
  {
   "cell_type": "markdown",
   "metadata": {
    "slideshow": {
     "slide_type": "fragment"
    }
   },
   "source": [
    "Luckily, `Plots` gives us a simple set of commands to make plots and allows us access to most any of these plotting packages as the backend. Additionally, it prevents you from having to commit to any one plotting package and helps us leverage the best of each package.\n",
    "\n",
    "We will only do a simple example of this, but I highly recommend reading the Plots [documentation](https://juliaplots.github.io/). The documentation is thorough and well maintained (3 gold stars to Tom Breloff!)"
   ]
  },
  {
   "cell_type": "code",
   "execution_count": 1,
   "metadata": {
    "collapsed": false,
    "slideshow": {
     "slide_type": "subslide"
    }
   },
   "outputs": [],
   "source": [
    "using Plots"
   ]
  },
  {
   "cell_type": "code",
   "execution_count": 11,
   "metadata": {
    "collapsed": false,
    "slideshow": {
     "slide_type": "-"
    }
   },
   "outputs": [
    {
     "data": {
      "text/html": [
       "<img src=\"data:image/png;base64,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\" />"
      ]
     },
     "execution_count": 11,
     "metadata": {},
     "output_type": "execute_result"
    }
   ],
   "source": [
    "plotlyjs()\n",
    "# unicodeplots()\n",
    "# pyplot()\n",
    "\n",
    "plot(rand(10))"
   ]
  },
  {
   "cell_type": "code",
   "execution_count": 12,
   "metadata": {
    "collapsed": false,
    "slideshow": {
     "slide_type": "subslide"
    }
   },
   "outputs": [
    {
     "name": "stderr",
     "output_type": "stream",
     "text": [
      "INFO: Saved animation to /home/chase/Documents/Academic/Presentations/PyDataDC/tmp.gif\n"
     ]
    },
    {
     "data": {
      "text/html": [
       "<img src=\"tmp.gif?0.12393476945916704>\" />"
      ],
      "text/plain": [
       "Plots.AnimatedGif(\"/home/chase/Documents/Academic/Presentations/PyDataDC/tmp.gif\")"
      ]
     },
     "execution_count": 12,
     "metadata": {},
     "output_type": "execute_result"
    }
   ],
   "source": [
    "# initialize the attractor\n",
    "n = 1500\n",
    "dt = 0.02\n",
    "σ, ρ, β = 10., 28., 8/3\n",
    "x, y, z = 1., 1., 1.\n",
    "\n",
    "# initialize a 3D plot with 1 empty series\n",
    "plt = path3d(1, xlim=(-25,25), ylim=(-25,25), zlim=(0,50),\n",
    "                xlab = \"x\", ylab = \"y\", zlab = \"z\",\n",
    "                title = \"Lorenz Attractor\", marker = 1)\n",
    "\n",
    "# build an animated gif, saving every 10th frame\n",
    "@gif for i=1:n\n",
    "    dx = σ*(y - x)     ; x += dt * dx\n",
    "    dy = x*(ρ - z) - y ; y += dt * dy\n",
    "    dz = x*y - β*z     ; z += dt * dz\n",
    "    push!(plt, x, y, z)\n",
    "end every 10"
   ]
  },
  {
   "cell_type": "markdown",
   "metadata": {
    "slideshow": {
     "slide_type": "slide"
    }
   },
   "source": [
    "# Performance \"gotchas\""
   ]
  },
  {
   "cell_type": "code",
   "execution_count": null,
   "metadata": {
    "collapsed": true,
    "slideshow": {
     "slide_type": "-"
    }
   },
   "outputs": [],
   "source": [
    "using BenchmarkTools"
   ]
  },
  {
   "cell_type": "markdown",
   "metadata": {
    "slideshow": {
     "slide_type": "subslide"
    }
   },
   "source": [
    "## Type Stability"
   ]
  },
  {
   "cell_type": "code",
   "execution_count": null,
   "metadata": {
    "collapsed": false,
    "slideshow": {
     "slide_type": "subslide"
    }
   },
   "outputs": [],
   "source": [
    "function my_sum_unstable(N::Int)\n",
    "    total = 0\n",
    "    for i=1:N\n",
    "        total += i / N\n",
    "    end\n",
    "\n",
    "    return total\n",
    "end\n",
    "\n",
    "function my_sum_stable(N::Int)\n",
    "    total = 0.0\n",
    "    for i=1:N\n",
    "        total += i / N\n",
    "    end\n",
    "\n",
    "    return total\n",
    "end"
   ]
  },
  {
   "cell_type": "code",
   "execution_count": null,
   "metadata": {
    "collapsed": false,
    "slideshow": {
     "slide_type": "subslide"
    }
   },
   "outputs": [],
   "source": [
    "@benchmark my_sum_stable(10_000_000)"
   ]
  },
  {
   "cell_type": "code",
   "execution_count": null,
   "metadata": {
    "collapsed": false,
    "slideshow": {
     "slide_type": "subslide"
    }
   },
   "outputs": [],
   "source": [
    "@benchmark my_sum_unstable(10_000_000)"
   ]
  },
  {
   "cell_type": "code",
   "execution_count": null,
   "metadata": {
    "collapsed": false,
    "slideshow": {
     "slide_type": "subslide"
    }
   },
   "outputs": [],
   "source": [
    "@code_warntype my_sum_stable(10)"
   ]
  },
  {
   "cell_type": "code",
   "execution_count": null,
   "metadata": {
    "collapsed": false,
    "slideshow": {
     "slide_type": "subslide"
    }
   },
   "outputs": [],
   "source": [
    "@code_warntype my_sum_unstable(10)"
   ]
  },
  {
   "cell_type": "markdown",
   "metadata": {
    "slideshow": {
     "slide_type": "subslide"
    }
   },
   "source": [
    "## Access Memory Columnwise\n",
    "\n",
    "Julia is column-major which is especially important to be aware of if you do most of your programming in Python (which is row-major)."
   ]
  },
  {
   "cell_type": "code",
   "execution_count": null,
   "metadata": {
    "collapsed": false,
    "slideshow": {
     "slide_type": "subslide"
    }
   },
   "outputs": [],
   "source": [
    "function column_sum(A)\n",
    "    nrow, ncol = size(A)\n",
    "\n",
    "    total = 0.0\n",
    "    for c=1:ncol\n",
    "        for r=1:nrow\n",
    "            total = total + A[r, c]\n",
    "        end\n",
    "    end\n",
    "\n",
    "    return total\n",
    "end\n",
    "\n",
    "function row_sum(A)\n",
    "    nrow, ncol = size(A)\n",
    "\n",
    "    total = 0.0\n",
    "    for r=1:nrow\n",
    "        for c=1:ncol\n",
    "            total = total + A[r, c]\n",
    "        end\n",
    "    end\n",
    "\n",
    "    return total\n",
    "end"
   ]
  },
  {
   "cell_type": "code",
   "execution_count": null,
   "metadata": {
    "collapsed": false,
    "slideshow": {
     "slide_type": "subslide"
    }
   },
   "outputs": [],
   "source": [
    "A = randn(10_000, 10_000);"
   ]
  },
  {
   "cell_type": "code",
   "execution_count": null,
   "metadata": {
    "collapsed": false,
    "slideshow": {
     "slide_type": "subslide"
    }
   },
   "outputs": [],
   "source": [
    "@benchmark column_sum(A)"
   ]
  },
  {
   "cell_type": "code",
   "execution_count": null,
   "metadata": {
    "collapsed": false
   },
   "outputs": [],
   "source": [
    "@benchmark row_sum(A)"
   ]
  }
 ],
 "metadata": {
  "anaconda-cloud": {},
  "celltoolbar": "Slideshow",
  "kernelspec": {
   "display_name": "Julia 0.5.0-rc4",
   "language": "julia",
   "name": "julia-0.5"
  },
  "language_info": {
   "file_extension": ".jl",
   "mimetype": "application/julia",
   "name": "julia",
   "version": "0.5.0"
  },
  "nbpresent": {
   "slides": {},
   "themes": {}
  }
 },
 "nbformat": 4,
 "nbformat_minor": 1
}
