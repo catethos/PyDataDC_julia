{
 "cells": [
  {
   "cell_type": "markdown",
   "metadata": {
    "nbpresent": {
     "id": "498efe1a-0ab8-440c-b0bc-2746b48b3738"
    },
    "slideshow": {
     "slide_type": "slide"
    }
   },
   "source": [
    "# Julia Tutorial\n",
    "\n",
    "## PyData DC 2016\n",
    "\n",
    "**Chase Coleman**"
   ]
  },
  {
   "cell_type": "markdown",
   "metadata": {
    "slideshow": {
     "slide_type": "subslide"
    }
   },
   "source": [
    "## What is needed to follow along\n",
    "\n",
    "Before we get started, anyone who wants to follow along should do two things:\n",
    "\n",
    "1. Get Julia by going to http://julialang.org/downloads/ and downloading the appropriate version of Julia\n",
    "2. Download this notebook and other materials by \"gitting\" them from https://github.com/cc7768/PyDataDC_julia\n",
    "\n",
    "Please do this as you come in and sit down."
   ]
  },
  {
   "cell_type": "markdown",
   "metadata": {
    "slideshow": {
     "slide_type": "slide"
    }
   },
   "source": [
    "# What is Julia?\n",
    "\n",
    "[Julia](http://julialang.org/) is a new(ish) programming language designed to be both high-level and high-performant.\n",
    "\n",
    "The current release is 0.5.0."
   ]
  },
  {
   "cell_type": "markdown",
   "metadata": {
    "slideshow": {
     "slide_type": "subslide"
    }
   },
   "source": [
    "## High-level\n",
    "\n",
    "* <font color=\"green\"> Simple syntax </font>\n",
    "* <font color=\"green\"> Dynamic types </font>\n",
    "* <font color=\"green\"> Prevents excess verbosity </font>\n",
    "* <font color=\"green\"> Rapid prototyping </font>"
   ]
  },
  {
   "cell_type": "markdown",
   "metadata": {
    "slideshow": {
     "slide_type": "subslide"
    }
   },
   "source": [
    "## (Potentially) High-performance\n",
    "\n",
    "* <font color=\"green\"> Compiled (JIT) </font>\n",
    "* <font color=\"green\"> Helps solve two language problem (Julia is mainly implemented in Julia) </font>\n",
    "\n",
    "* <font color=\"red\"> Sometimes naively written code suffers performance penalties (though this is true in all languages) </font>"
   ]
  },
  {
   "cell_type": "markdown",
   "metadata": {
    "slideshow": {
     "slide_type": "subslide"
    }
   },
   "source": [
    "## Hello World"
   ]
  },
  {
   "cell_type": "code",
   "execution_count": 1,
   "metadata": {
    "collapsed": false
   },
   "outputs": [
    {
     "name": "stdout",
     "output_type": "stream",
     "text": [
      "Hello Julia World\n"
     ]
    }
   ],
   "source": [
    "println(\"Hello Julia World\")"
   ]
  },
  {
   "cell_type": "markdown",
   "metadata": {
    "slideshow": {
     "slide_type": "slide"
    }
   },
   "source": [
    "## Syntax Overview\n",
    "\n",
    "Brief overview of basic Julia syntax"
   ]
  },
  {
   "cell_type": "code",
   "execution_count": 2,
   "metadata": {
    "collapsed": false,
    "slideshow": {
     "slide_type": "subslide"
    }
   },
   "outputs": [
    {
     "data": {
      "text/plain": [
       "bisect (generic function with 1 method)"
      ]
     },
     "execution_count": 2,
     "metadata": {},
     "output_type": "execute_result"
    }
   ],
   "source": [
    "# Learn by example\n",
    "function bisect(f::Function, a, b; maxiter=500, tol=1e-8)\n",
    "    fa, fb = f(a), f(b)\n",
    "    fa*fb > 0 ? error(\"f(a) and f(b) must have different signs\") : nothing\n",
    "\n",
    "    for i=1:maxiter\n",
    "        c = (a+b)/2\n",
    "        fc = f(c)\n",
    "\n",
    "        abs(fc) > tol ? nothing : return (c, fc)\n",
    "\n",
    "        if fa*fc > 0.0\n",
    "            a = c\n",
    "             fa = fc\n",
    "        else\n",
    "            b = c\n",
    "            fb = fc\n",
    "        end\n",
    "    end\n",
    "\n",
    "    error(\"Failed to converge in $maxiter iterations\")\n",
    "end"
   ]
  },
  {
   "cell_type": "markdown",
   "metadata": {
    "slideshow": {
     "slide_type": "subslide"
    }
   },
   "source": [
    "## Shorthand Function Definition"
   ]
  },
  {
   "cell_type": "code",
   "execution_count": 3,
   "metadata": {
    "collapsed": false,
    "slideshow": {
     "slide_type": "-"
    }
   },
   "outputs": [],
   "source": [
    "f(x::Float64) = x^3;  # Normal function definition\n",
    "f1 = x -> x^3;  # Anonymous function"
   ]
  },
  {
   "cell_type": "code",
   "execution_count": 4,
   "metadata": {
    "collapsed": false,
    "slideshow": {
     "slide_type": "-"
    }
   },
   "outputs": [
    {
     "name": "stdout",
     "output_type": "stream",
     "text": [
      "(0.001953125,7.450580596923828e-9)\n",
      "(0.001953125,7.450580596923828e-9)\n"
     ]
    }
   ],
   "source": [
    "println(bisect(f, -2.0, 0.5))\n",
    "println(bisect(f1, -2.0, 0.5))"
   ]
  },
  {
   "cell_type": "markdown",
   "metadata": {
    "slideshow": {
     "slide_type": "subslide"
    }
   },
   "source": [
    "## Comprehensions"
   ]
  },
  {
   "cell_type": "code",
   "execution_count": 5,
   "metadata": {
    "collapsed": false,
    "slideshow": {
     "slide_type": "-"
    }
   },
   "outputs": [
    {
     "name": "stdout",
     "output_type": "stream",
     "text": [
      "[0.0,0.127877,0.253655,0.375267,0.490718]\n"
     ]
    }
   ],
   "source": [
    "x = collect(linspace(0, 2π, 50))\n",
    "sin_x = [sin(i) for i in x];\n",
    "println(sin_x[1:5])"
   ]
  },
  {
   "cell_type": "markdown",
   "metadata": {
    "slideshow": {
     "slide_type": "subslide"
    }
   },
   "source": [
    "## Broadcasting with matrices\n",
    "\n",
    "Many matrix operations look like their Matlab counterparts"
   ]
  },
  {
   "cell_type": "code",
   "execution_count": 6,
   "metadata": {
    "collapsed": false
   },
   "outputs": [
    {
     "name": "stdout",
     "output_type": "stream",
     "text": [
      "[0.5 0.0; 0.0 0.5]\n",
      "[2.0 0.0; 0.0 2.0]\n",
      "[2.0 2.0; 2.0 2.0]\n",
      "[2.0,2.0]\n",
      "[2.0 2.0 2.0; 2.0 2.0 2.0]\n"
     ]
    }
   ],
   "source": [
    "a = eye(2);  # Identity matrix\n",
    "b = 2.0 * ones(2, 2);  # Matrix of all ones\n",
    "\n",
    "println(a ./ b)  # elementwise divide\n",
    "println(a .* b)  # elementwise multiply\n",
    "println(a*b)  # matrix multiplication\n",
    "println(a \\ b[:, 1])  # solve a x = b\n",
    "println(ones(2, 1) .+ ones(1, 3))  # Broadcasting tricks"
   ]
  },
  {
   "cell_type": "markdown",
   "metadata": {
    "slideshow": {
     "slide_type": "subslide"
    }
   },
   "source": [
    "## Vectorization\n",
    "\n",
    "There is a relatively new `.` convention (mimics the notation for broadcasting) in Julia that transforms scalar functions into a vectorized function -- If you're interested in the details, see this github [issue](https://github.com/JuliaLang/julia/pull/17300)"
   ]
  },
  {
   "cell_type": "code",
   "execution_count": 8,
   "metadata": {
    "collapsed": false,
    "slideshow": {
     "slide_type": "-"
    }
   },
   "outputs": [
    {
     "name": "stdout",
     "output_type": "stream",
     "text": [
      "[0.0,0.127877,0.253655,0.375267,0.490718]\n",
      "[0.0,0.00210839,0.0168671,0.0569266,0.134937]\n"
     ]
    }
   ],
   "source": [
    "f_x = f.(x)  # This function only knew how to operate on Float64s\n",
    "sin_x = sin.(x)\n",
    "println(sin_x[1:5])\n",
    "println(f_x[1:5])"
   ]
  },
  {
   "cell_type": "markdown",
   "metadata": {
    "slideshow": {
     "slide_type": "slide"
    }
   },
   "source": [
    "# Types\n",
    "\n",
    "Understanding Julia's type system will help write smart \"Julian\" code. Two \"laws\" of Julia:\n",
    "\n",
    "* Everything in Julia is a type\n",
    "* Every type in Julia has a supertype (think parent-child inheritance)"
   ]
  },
  {
   "cell_type": "markdown",
   "metadata": {
    "slideshow": {
     "slide_type": "subslide"
    }
   },
   "source": [
    "## Type Hierarchy Example\n",
    "\n",
    "![alt text](./images/Type-hierarchy-for-julia-numbers.png \"Type Hierarchy\")\n",
    "\n",
    "Image is from [wikibooks](https://en.wikibooks.org/wiki/Introducing_Julia/Types) and is licensed under [CC BY-SA](http://creativecommons.org/licenses/by-sa/4.0)"
   ]
  },
  {
   "cell_type": "code",
   "execution_count": 9,
   "metadata": {
    "collapsed": false,
    "slideshow": {
     "slide_type": "subslide"
    }
   },
   "outputs": [
    {
     "name": "stdout",
     "output_type": "stream",
     "text": [
      "Float64\n",
      "Int64\n",
      "Bool\n",
      "String\n",
      "String\n",
      "Int8\n",
      "Array{Float64,1}\n"
     ]
    }
   ],
   "source": [
    "println(typeof(1.0))\n",
    "println(typeof(1))\n",
    "println(typeof(true))\n",
    "println(typeof(\"A\"))\n",
    "println(typeof(\"ABC\"))\n",
    "println(typeof(Int8(10)))\n",
    "println(typeof(ones(3)))"
   ]
  },
  {
   "cell_type": "markdown",
   "metadata": {
    "slideshow": {
     "slide_type": "subslide"
    }
   },
   "source": [
    "## Multiple Dispatch\n",
    "\n",
    "**Disclaimer: I'm not a computer scientist, this is my understanding and it is possibly wrong.**\n",
    "\n",
    "Object oriented languages, like Python, are by nature \"single dispatch.\" Single dispatch is where the functions are specialized based on the type of their first argument -- Think about the `self` argument for class methods. Multiple dispatch is where functions are \"specialized\" based on the types of all of arguments.\n",
    "\n",
    "To understand, let's see some examples."
   ]
  },
  {
   "cell_type": "code",
   "execution_count": 10,
   "metadata": {
    "collapsed": false,
    "slideshow": {
     "slide_type": "subslide"
    }
   },
   "outputs": [
    {
     "data": {
      "text/plain": [
       "mdf (generic function with 1 method)"
      ]
     },
     "execution_count": 10,
     "metadata": {},
     "output_type": "execute_result"
    }
   ],
   "source": [
    "# My dumb function\n",
    "function mdf(a::Any, b::Any)\n",
    "    println(\"The type of a is $(string(typeof(a)))\")\n",
    "    println(\"The type of b is $(string(typeof(b)))\")\n",
    "\n",
    "    return nothing\n",
    "end"
   ]
  },
  {
   "cell_type": "code",
   "execution_count": 11,
   "metadata": {
    "collapsed": false,
    "slideshow": {
     "slide_type": "-"
    }
   },
   "outputs": [
    {
     "name": "stdout",
     "output_type": "stream",
     "text": [
      "The type of a is Int64\n",
      "The type of b is Int64\n",
      "The type of a is Base.#sum\n",
      "The type of b is Rational{Int64}\n"
     ]
    }
   ],
   "source": [
    "mdf(1, 1)\n",
    "mdf(sum, 1//2)"
   ]
  },
  {
   "cell_type": "code",
   "execution_count": 12,
   "metadata": {
    "collapsed": false,
    "slideshow": {
     "slide_type": "subslide"
    }
   },
   "outputs": [
    {
     "data": {
      "text/plain": [
       "mdf (generic function with 4 methods)"
      ]
     },
     "execution_count": 12,
     "metadata": {},
     "output_type": "execute_result"
    }
   ],
   "source": [
    "mdf(a::Number, b) = println(\"a is a number\")\n",
    "mdf(a, b::Number) = println(\"b is a number\")\n",
    "\n",
    "function mdf(a::Number, b::Number)\n",
    "    println(\"Ha! We're both numbers!!!\")\n",
    "\n",
    "    return nothing\n",
    "end"
   ]
  },
  {
   "cell_type": "code",
   "execution_count": 13,
   "metadata": {
    "collapsed": false,
    "slideshow": {
     "slide_type": "fragment"
    }
   },
   "outputs": [
    {
     "name": "stdout",
     "output_type": "stream",
     "text": [
      "Ha! We're both numbers!!!\n",
      "b is a number\n",
      "a is a number\n"
     ]
    }
   ],
   "source": [
    "# Remember some of these returned something\n",
    "# different before we defined a more specialized method\n",
    "mdf(1, 1)\n",
    "mdf(sum, 1//2)\n",
    "mdf(0.0, sum)"
   ]
  },
  {
   "cell_type": "markdown",
   "metadata": {
    "slideshow": {
     "slide_type": "subslide"
    }
   },
   "source": [
    "## Type Parameters\n",
    "\n",
    "Notice that below when we ask Julia the type of an array it gives us some additional information -- In particular, it tells us `Array{Float64, 1}`.\n",
    "\n",
    "The information inside the curly brackets is referred to as \"type parameters.\" Type parameters will allow us to further specialize our functions."
   ]
  },
  {
   "cell_type": "code",
   "execution_count": 14,
   "metadata": {
    "collapsed": false,
    "slideshow": {
     "slide_type": "-"
    }
   },
   "outputs": [
    {
     "data": {
      "text/plain": [
       "Array{Float64,1}"
      ]
     },
     "execution_count": 14,
     "metadata": {},
     "output_type": "execute_result"
    }
   ],
   "source": [
    "typeof(ones(3))"
   ]
  },
  {
   "cell_type": "code",
   "execution_count": 22,
   "metadata": {
    "collapsed": false,
    "slideshow": {
     "slide_type": "subslide"
    }
   },
   "outputs": [
    {
     "data": {
      "text/plain": [
       "mdf (generic function with 7 methods)"
      ]
     },
     "execution_count": 22,
     "metadata": {},
     "output_type": "execute_result"
    }
   ],
   "source": [
    "function mdf{T<:AbstractFloat}(a::Vector{T}, b::Vector{T})\n",
    "    println(\"a and b are vectors with some kind of Float\")\n",
    "\n",
    "    return nothing\n",
    "end\n",
    "\n",
    "function mdf{T<:Integer}(a::Vector{T}, b::Vector{T})\n",
    "    println(\"a and b are vectors with some kind of integer\")\n",
    "\n",
    "    return nothing\n",
    "end"
   ]
  },
  {
   "cell_type": "code",
   "execution_count": 23,
   "metadata": {
    "collapsed": false
   },
   "outputs": [
    {
     "name": "stdout",
     "output_type": "stream",
     "text": [
      "a and b are vectors with some kind of Float\n",
      "a and b are vectors with some kind of integer\n"
     ]
    }
   ],
   "source": [
    "mdf(ones(3), ones(3))\n",
    "mdf(ones(Int, 3), ones(Int, 3))"
   ]
  },
  {
   "cell_type": "markdown",
   "metadata": {
    "slideshow": {
     "slide_type": "subslide"
    }
   },
   "source": [
    "## User Types\n",
    "\n",
    "User defined types in Julia are a good idea. If you write Julia code, you should use your own types.\n",
    "\n",
    "When you do start defining your own types, do so [intelligently](http://docs.julialang.org/en/release-0.5/manual/performance-tips/#type-declarations) and as always it is recommended that you RTFD."
   ]
  },
  {
   "cell_type": "markdown",
   "metadata": {
    "slideshow": {
     "slide_type": "slide"
    }
   },
   "source": [
    "# Package System\n",
    "\n",
    "* Registered\n",
    "* Unregistered"
   ]
  },
  {
   "cell_type": "markdown",
   "metadata": {
    "slideshow": {
     "slide_type": "subslide"
    }
   },
   "source": [
    "## Add and Remove Packages"
   ]
  },
  {
   "cell_type": "markdown",
   "metadata": {
    "slideshow": {
     "slide_type": "subslide"
    }
   },
   "source": [
    "## Plotting Packages"
   ]
  },
  {
   "cell_type": "markdown",
   "metadata": {
    "slideshow": {
     "slide_type": "slide"
    }
   },
   "source": [
    "# Performance \"gotchas\""
   ]
  },
  {
   "cell_type": "code",
   "execution_count": 24,
   "metadata": {
    "collapsed": true,
    "slideshow": {
     "slide_type": "-"
    }
   },
   "outputs": [],
   "source": [
    "using BenchmarkTools"
   ]
  },
  {
   "cell_type": "markdown",
   "metadata": {
    "slideshow": {
     "slide_type": "subslide"
    }
   },
   "source": [
    "## Type Stability"
   ]
  },
  {
   "cell_type": "code",
   "execution_count": 25,
   "metadata": {
    "collapsed": false,
    "slideshow": {
     "slide_type": "subslide"
    }
   },
   "outputs": [
    {
     "data": {
      "text/plain": [
       "my_sum_unstable (generic function with 1 method)"
      ]
     },
     "execution_count": 25,
     "metadata": {},
     "output_type": "execute_result"
    }
   ],
   "source": [
    "function my_sum_unstable(N::Int)\n",
    "    total = 0\n",
    "    for i=1:N\n",
    "        total += i / N\n",
    "    end\n",
    "\n",
    "    return total\n",
    "end\n",
    "\n",
    "function my_sum_stable(N::Int)\n",
    "    total = 0.0\n",
    "    for i=1:N\n",
    "        total += i / N\n",
    "    end\n",
    "\n",
    "    return total\n",
    "end"
   ]
  },
  {
   "cell_type": "code",
   "execution_count": 29,
   "metadata": {
    "collapsed": false,
    "slideshow": {
     "slide_type": "subslide"
    }
   },
   "outputs": [
    {
     "data": {
      "text/plain": [
       "BenchmarkTools.Trial: \n",
       "  samples:          63\n",
       "  evals/sample:     1\n",
       "  time tolerance:   5.00%\n",
       "  memory tolerance: 1.00%\n",
       "  memory estimate:  0.00 bytes\n",
       "  allocs estimate:  0\n",
       "  minimum time:     77.05 ms (0.00% GC)\n",
       "  median time:      79.89 ms (0.00% GC)\n",
       "  mean time:        79.80 ms (0.00% GC)\n",
       "  maximum time:     82.38 ms (0.00% GC)"
      ]
     },
     "execution_count": 29,
     "metadata": {},
     "output_type": "execute_result"
    }
   ],
   "source": [
    "@benchmark my_sum_stable(10_000_000)"
   ]
  },
  {
   "cell_type": "code",
   "execution_count": 30,
   "metadata": {
    "collapsed": false,
    "slideshow": {
     "slide_type": "subslide"
    }
   },
   "outputs": [
    {
     "data": {
      "text/plain": [
       "BenchmarkTools.Trial: \n",
       "  samples:          23\n",
       "  evals/sample:     1\n",
       "  time tolerance:   5.00%\n",
       "  memory tolerance: 1.00%\n",
       "  memory estimate:  457.76 mb\n",
       "  allocs estimate:  30000000\n",
       "  minimum time:     209.52 ms (8.93% GC)\n",
       "  median time:      212.39 ms (9.32% GC)\n",
       "  mean time:        221.53 ms (11.14% GC)\n",
       "  maximum time:     356.97 ms (33.67% GC)"
      ]
     },
     "execution_count": 30,
     "metadata": {},
     "output_type": "execute_result"
    }
   ],
   "source": [
    "@benchmark my_sum_unstable(10_000_000)"
   ]
  },
  {
   "cell_type": "code",
   "execution_count": 31,
   "metadata": {
    "collapsed": false,
    "slideshow": {
     "slide_type": "subslide"
    }
   },
   "outputs": [
    {
     "name": "stdout",
     "output_type": "stream",
     "text": [
      "Variables:\n",
      "  #self#::#my_sum_stable\n",
      "  N::Int64\n",
      "  total::Float64\n",
      "  #temp#::Int64\n",
      "  i::Int64\n",
      "\n",
      "Body:\n",
      "  begin \n",
      "      total::Float64 = 0.0 # line 3:\n",
      "      SSAValue(2) = (Base.select_value)((Base.sle_int)(1,N::Int64)::Bool,N::Int64,(Base.box)(Int64,(Base.sub_int)(1,1)))::Int64\n",
      "      #temp#::Int64 = 1\n",
      "      5: \n",
      "      unless (Base.box)(Base.Bool,(Base.not_int)((#temp#::Int64 === (Base.box)(Int64,(Base.add_int)(SSAValue(2),1)))::Bool)) goto 15\n",
      "      SSAValue(3) = #temp#::Int64\n",
      "      SSAValue(4) = (Base.box)(Int64,(Base.add_int)(#temp#::Int64,1))\n",
      "      i::Int64 = SSAValue(3)\n",
      "      #temp#::Int64 = SSAValue(4) # line 4:\n",
      "      total::Float64 = (Base.box)(Base.Float64,(Base.add_float)(total::Float64,(Base.box)(Base.Float64,(Base.div_float)((Base.box)(Float64,(Base.sitofp)(Float64,i::Int64)),(Base.box)(Float64,(Base.sitofp)(Float64,N::Int64))))))\n",
      "      13: \n",
      "      goto 5\n",
      "      15:  # line 7:\n",
      "      return total::Float64\n",
      "  end::Float64\n"
     ]
    }
   ],
   "source": [
    "@code_warntype my_sum_stable(10)"
   ]
  },
  {
   "cell_type": "code",
   "execution_count": 32,
   "metadata": {
    "collapsed": false,
    "slideshow": {
     "slide_type": "subslide"
    }
   },
   "outputs": [
    {
     "name": "stdout",
     "output_type": "stream",
     "text": [
      "Variables:\n",
      "  #self#::#my_sum_unstable\n",
      "  N::Int64\n",
      "  total::ANY\n",
      "  #temp#@_4::Int64\n",
      "  i::Int64\n",
      "  #temp#@_6::LambdaInfo\n",
      "  #temp#@_7::Float64\n",
      "\n",
      "Body:\n",
      "  begin \n",
      "      total::ANY = 0 # line 3:\n",
      "      SSAValue(2) = (Base.select_value)((Base.sle_int)(1,N::Int64)::Bool,N::Int64,(Base.box)(Int64,(Base.sub_int)(1,1)))::Int64\n",
      "      #temp#@_4::Int64 = 1\n",
      "      5: \n",
      "      unless (Base.box)(Base.Bool,(Base.not_int)((#temp#@_4::Int64 === (Base.box)(Int64,(Base.add_int)(SSAValue(2),1)))::Bool)) goto 30\n",
      "      SSAValue(3) = #temp#@_4::Int64\n",
      "      SSAValue(4) = (Base.box)(Int64,(Base.add_int)(#temp#@_4::Int64,1))\n",
      "      i::Int64 = SSAValue(3)\n",
      "      #temp#@_4::Int64 = SSAValue(4) # line 4:\n",
      "      unless (Core.isa)(total::UNION{FLOAT64,INT64},Float64)::ANY goto 15\n",
      "      #temp#@_6::LambdaInfo = LambdaInfo for +(::Float64, ::Float64)\n",
      "      goto 24\n",
      "      15: \n",
      "      unless (Core.isa)(total::UNION{FLOAT64,INT64},Int64)::ANY goto 19\n",
      "      #temp#@_6::LambdaInfo = LambdaInfo for +(::Int64, ::Float64)\n",
      "      goto 24\n",
      "      19: \n",
      "      goto 21\n",
      "      21: \n",
      "      #temp#@_7::Float64 = (total::UNION{FLOAT64,INT64} + (Base.box)(Base.Float64,(Base.div_float)((Base.box)(Float64,(Base.sitofp)(Float64,i::Int64)),(Base.box)(Float64,(Base.sitofp)(Float64,N::Int64)))))::Float64\n",
      "      goto 26\n",
      "      24: \n",
      "      #temp#@_7::Float64 = $(Expr(:invoke, :(#temp#@_6), :(Main.+), :(total::Union{Float64,Int64}), :((Base.box)(Base.Float64,(Base.div_float)((Base.box)(Float64,(Base.sitofp)(Float64,i)),(Base.box)(Float64,(Base.sitofp)(Float64,N)))))))\n",
      "      26: \n",
      "      total::ANY = #temp#@_7::Float64\n",
      "      28: \n",
      "      goto 5\n",
      "      30:  # line 7:\n",
      "      return total::UNION{FLOAT64,INT64}\n",
      "  end::UNION{FLOAT64,INT64}\n"
     ]
    }
   ],
   "source": [
    "@code_warntype my_sum_unstable(10)"
   ]
  },
  {
   "cell_type": "markdown",
   "metadata": {
    "slideshow": {
     "slide_type": "subslide"
    }
   },
   "source": [
    "## Access Memory Columnwise\n",
    "\n",
    "Julia is column-major which is especially important to be aware of if you do most of your programming in Python (which is row-major)."
   ]
  },
  {
   "cell_type": "code",
   "execution_count": 33,
   "metadata": {
    "collapsed": false,
    "slideshow": {
     "slide_type": "subslide"
    }
   },
   "outputs": [
    {
     "data": {
      "text/plain": [
       "column_sum (generic function with 1 method)"
      ]
     },
     "execution_count": 33,
     "metadata": {},
     "output_type": "execute_result"
    }
   ],
   "source": [
    "function column_sum(A)\n",
    "    nrow, ncol = size(A)\n",
    "\n",
    "    total = 0.0\n",
    "    for c=1:ncol\n",
    "        for r=1:nrow\n",
    "            total = total + A[r, c]\n",
    "        end\n",
    "    end\n",
    "\n",
    "    return total\n",
    "end\n",
    "\n",
    "function row_sum(A)\n",
    "    nrow, ncol = size(A)\n",
    "\n",
    "    total = 0.0\n",
    "    for r=1:nrow\n",
    "        for c=1:ncol\n",
    "            total = total + A[r, c]\n",
    "        end\n",
    "    end\n",
    "\n",
    "    return total\n",
    "end"
   ]
  },
  {
   "cell_type": "code",
   "execution_count": 36,
   "metadata": {
    "collapsed": false,
    "slideshow": {
     "slide_type": "subslide"
    }
   },
   "outputs": [],
   "source": [
    "A = randn(10_000, 10_000);"
   ]
  },
  {
   "cell_type": "code",
   "execution_count": 37,
   "metadata": {
    "collapsed": false,
    "slideshow": {
     "slide_type": "subslide"
    }
   },
   "outputs": [
    {
     "data": {
      "text/plain": [
       "BenchmarkTools.Trial: \n",
       "  samples:          53\n",
       "  evals/sample:     1\n",
       "  time tolerance:   5.00%\n",
       "  memory tolerance: 1.00%\n",
       "  memory estimate:  16.00 bytes\n",
       "  allocs estimate:  1\n",
       "  minimum time:     90.83 ms (0.00% GC)\n",
       "  median time:      93.46 ms (0.00% GC)\n",
       "  mean time:        95.72 ms (0.00% GC)\n",
       "  maximum time:     110.24 ms (0.00% GC)"
      ]
     },
     "execution_count": 37,
     "metadata": {},
     "output_type": "execute_result"
    }
   ],
   "source": [
    "@benchmark column_sum(A)"
   ]
  },
  {
   "cell_type": "code",
   "execution_count": 38,
   "metadata": {
    "collapsed": false
   },
   "outputs": [
    {
     "data": {
      "text/plain": [
       "BenchmarkTools.Trial: \n",
       "  samples:          17\n",
       "  evals/sample:     1\n",
       "  time tolerance:   5.00%\n",
       "  memory tolerance: 1.00%\n",
       "  memory estimate:  16.00 bytes\n",
       "  allocs estimate:  1\n",
       "  minimum time:     306.33 ms (0.00% GC)\n",
       "  median time:      307.67 ms (0.00% GC)\n",
       "  mean time:        307.94 ms (0.00% GC)\n",
       "  maximum time:     309.62 ms (0.00% GC)"
      ]
     },
     "execution_count": 38,
     "metadata": {},
     "output_type": "execute_result"
    }
   ],
   "source": [
    "@benchmark row_sum(A)"
   ]
  }
 ],
 "metadata": {
  "anaconda-cloud": {},
  "celltoolbar": "Slideshow",
  "kernelspec": {
   "display_name": "Julia 0.5.0-rc4",
   "language": "julia",
   "name": "julia-0.5"
  },
  "language_info": {
   "file_extension": ".jl",
   "mimetype": "application/julia",
   "name": "julia",
   "version": "0.5.0"
  },
  "nbpresent": {
   "slides": {},
   "themes": {}
  }
 },
 "nbformat": 4,
 "nbformat_minor": 1
}
