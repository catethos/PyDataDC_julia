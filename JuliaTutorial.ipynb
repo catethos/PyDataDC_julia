{
 "cells": [
  {
   "cell_type": "markdown",
   "metadata": {
    "nbpresent": {
     "id": "498efe1a-0ab8-440c-b0bc-2746b48b3738"
    },
    "slideshow": {
     "slide_type": "slide"
    }
   },
   "source": [
    "# Julia Tutorial\n",
    "\n",
    "## PyData DC 2016\n",
    "\n",
    "**Chase Coleman**"
   ]
  },
  {
   "cell_type": "markdown",
   "metadata": {
    "slideshow": {
     "slide_type": "subslide"
    }
   },
   "source": [
    "## What is needed to follow along\n",
    "\n",
    "Before we get started, anyone who wants to follow along should do two things:\n",
    "\n",
    "1. Get Julia by going to http://julialang.org/downloads/ and downloading the appropriate version of Julia\n",
    "2. Once you've installed Julia, open it and type `Pkg.add(\"IJulia\")` <-- This adds a Julia kernel to Jupyter and will allow you to open my notebook which you will download in step 3.\n",
    "3. Download this notebook and other materials by \"gitting\" them from https://github.com/cc7768/PyDataDC_julia\n",
    "\n",
    "Please do this as you come in and sit down."
   ]
  },
  {
   "cell_type": "markdown",
   "metadata": {
    "slideshow": {
     "slide_type": "slide"
    }
   },
   "source": [
    "# Who am I?\n",
    "\n",
    "* PhD student in economics at NYU Stern\n",
    "* Lead developer of [QuantEcon](http://quantecon.org/index.html)\n"
   ]
  },
  {
   "cell_type": "markdown",
   "metadata": {
    "slideshow": {
     "slide_type": "fragment"
    }
   },
   "source": [
    "Both of these roles build up to me trying Julia for the first time -- That and persistent harassment from [Spencer Lyon](http://spencerlyon.com/) who is also a PhD student in economics at NYU Stern and a lead developer of QuantEcon."
   ]
  },
  {
   "cell_type": "markdown",
   "metadata": {
    "slideshow": {
     "slide_type": "slide"
    }
   },
   "source": [
    "# What is Julia?\n",
    "\n",
    "[Julia](http://julialang.org/) is a new(ish) programming language designed to be both high-level and high-performant.\n",
    "\n",
    "The current release is 0.5.0."
   ]
  },
  {
   "cell_type": "markdown",
   "metadata": {
    "slideshow": {
     "slide_type": "subslide"
    }
   },
   "source": [
    "## High-level\n",
    "\n",
    "* <font color=\"green\"> Simple syntax </font>\n",
    "* <font color=\"green\"> Dynamic types </font>\n",
    "* <font color=\"green\"> Prevents excess verbosity </font>\n",
    "* <font color=\"green\"> Rapid prototyping </font>"
   ]
  },
  {
   "cell_type": "markdown",
   "metadata": {
    "slideshow": {
     "slide_type": "subslide"
    }
   },
   "source": [
    "## (Potentially) High-performance\n",
    "\n",
    "* <font color=\"green\"> Compiled (JIT) </font>\n",
    "* <font color=\"green\"> Helps solve two language problem (Julia is mainly implemented in Julia) </font>\n",
    "\n",
    "* <font color=\"red\"> Sometimes naively written code suffers performance penalties (though this is true in all languages) </font>"
   ]
  },
  {
   "cell_type": "markdown",
   "metadata": {
    "slideshow": {
     "slide_type": "subslide"
    }
   },
   "source": [
    "## Hello World"
   ]
  },
  {
   "cell_type": "code",
   "execution_count": null,
   "metadata": {
    "collapsed": false
   },
   "outputs": [],
   "source": [
    "println(\"Hello Julia World\")"
   ]
  },
  {
   "cell_type": "markdown",
   "metadata": {
    "slideshow": {
     "slide_type": "slide"
    }
   },
   "source": [
    "## Syntax Overview\n",
    "\n",
    "Brief overview of basic Julia syntax"
   ]
  },
  {
   "cell_type": "code",
   "execution_count": null,
   "metadata": {
    "collapsed": false,
    "slideshow": {
     "slide_type": "subslide"
    }
   },
   "outputs": [],
   "source": [
    "# Learn by example\n",
    "function bisect(f::Function, a, b; maxiter=500, tol=1e-8)\n",
    "    fa, fb = f(a), f(b)\n",
    "    fa*fb > 0 ? error(\"f(a) and f(b) must have different signs\") : nothing\n",
    "\n",
    "    for i=1:maxiter\n",
    "        c = (a+b)/2\n",
    "        fc = f(c)\n",
    "\n",
    "        abs(fc) > tol ? nothing : return (c, fc)\n",
    "\n",
    "        if fa*fc > 0.0\n",
    "            a = c\n",
    "             fa = fc\n",
    "        else\n",
    "            b = c\n",
    "            fb = fc\n",
    "        end\n",
    "    end\n",
    "\n",
    "    error(\"Failed to converge in $maxiter iterations\")\n",
    "end"
   ]
  },
  {
   "cell_type": "markdown",
   "metadata": {
    "slideshow": {
     "slide_type": "subslide"
    }
   },
   "source": [
    "## Shorthand Function Definition"
   ]
  },
  {
   "cell_type": "code",
   "execution_count": null,
   "metadata": {
    "collapsed": false,
    "slideshow": {
     "slide_type": "-"
    }
   },
   "outputs": [],
   "source": [
    "f(x::Float64) = x^3;  # Normal function definition\n",
    "f1 = x -> x^3;  # Anonymous function"
   ]
  },
  {
   "cell_type": "code",
   "execution_count": null,
   "metadata": {
    "collapsed": false,
    "slideshow": {
     "slide_type": "-"
    }
   },
   "outputs": [],
   "source": [
    "println(bisect(f, -2.0, 0.5))\n",
    "println(bisect(f1, -2.0, 0.5))"
   ]
  },
  {
   "cell_type": "markdown",
   "metadata": {
    "slideshow": {
     "slide_type": "subslide"
    }
   },
   "source": [
    "## Comprehensions"
   ]
  },
  {
   "cell_type": "code",
   "execution_count": null,
   "metadata": {
    "collapsed": false,
    "slideshow": {
     "slide_type": "-"
    }
   },
   "outputs": [],
   "source": [
    "x = collect(linspace(0, 2π, 50))\n",
    "sin_x = [sin(i) for i in x];\n",
    "println(sin_x[1:5])"
   ]
  },
  {
   "cell_type": "markdown",
   "metadata": {
    "slideshow": {
     "slide_type": "subslide"
    }
   },
   "source": [
    "## Broadcasting with matrices\n",
    "\n",
    "Many matrix operations look like their Matlab counterparts"
   ]
  },
  {
   "cell_type": "code",
   "execution_count": null,
   "metadata": {
    "collapsed": false
   },
   "outputs": [],
   "source": [
    "a = eye(2);  # Identity matrix\n",
    "b = 2.0 * ones(2, 2);  # Matrix of all ones\n",
    "\n",
    "println(a ./ b)  # elementwise divide\n",
    "println(a .* b)  # elementwise multiply\n",
    "println(a*b)  # matrix multiplication\n",
    "println(a \\ b[:, 1])  # solve a x = b\n",
    "println(ones(2, 1) .+ ones(1, 3))  # Broadcasting tricks"
   ]
  },
  {
   "cell_type": "markdown",
   "metadata": {
    "slideshow": {
     "slide_type": "subslide"
    }
   },
   "source": [
    "## Vectorization\n",
    "\n",
    "There is a relatively new `.` convention (mimics the notation for broadcasting) in Julia that transforms scalar functions into a vectorized function -- If you're interested in the details, see this github [issue](https://github.com/JuliaLang/julia/pull/17300)"
   ]
  },
  {
   "cell_type": "code",
   "execution_count": null,
   "metadata": {
    "collapsed": false,
    "slideshow": {
     "slide_type": "-"
    }
   },
   "outputs": [],
   "source": [
    "f_x = f.(x)  # This function only knew how to operate on Float64s\n",
    "sin_x = sin.(x)\n",
    "println(sin_x[1:5])\n",
    "println(f_x[1:5])"
   ]
  },
  {
   "cell_type": "markdown",
   "metadata": {
    "slideshow": {
     "slide_type": "slide"
    }
   },
   "source": [
    "# Types\n",
    "\n",
    "Understanding Julia's type system will help write smart \"Julian\" code. Two \"laws\" of Julia:\n",
    "\n",
    "* Everything in Julia has a type\n",
    "* Every type in Julia has a \"Parent type\" -- Parent-Child/Abstract Base Class"
   ]
  },
  {
   "cell_type": "markdown",
   "metadata": {
    "slideshow": {
     "slide_type": "subslide"
    }
   },
   "source": [
    "## Type Hierarchy Example\n",
    "\n",
    "![alt text](./images/Type-hierarchy-for-julia-numbers.png \"Type Hierarchy\")\n",
    "\n",
    "Image is from [wikibooks](https://en.wikibooks.org/wiki/Introducing_Julia/Types) and is licensed under [CC BY-SA](http://creativecommons.org/licenses/by-sa/4.0)"
   ]
  },
  {
   "cell_type": "code",
   "execution_count": null,
   "metadata": {
    "collapsed": false,
    "slideshow": {
     "slide_type": "subslide"
    }
   },
   "outputs": [],
   "source": [
    "println(typeof(1.0))\n",
    "println(typeof(1))\n",
    "println(typeof(true))\n",
    "println(typeof(\"A\"))\n",
    "println(typeof(\"ABC\"))\n",
    "println(typeof(Int8(10)))\n",
    "println(typeof(ones(3)))"
   ]
  },
  {
   "cell_type": "markdown",
   "metadata": {
    "slideshow": {
     "slide_type": "subslide"
    }
   },
   "source": [
    "## Multiple Dispatch\n",
    "\n",
    "**Disclaimer: I'm not a computer scientist, this is how I understand this concept and it is possibly wrong.**\n",
    "\n",
    "Object oriented languages, like Python, are by nature \"single dispatch.\" Single dispatch is where the functions are specialized based on the type of their first argument -- Think about the `self` argument for class methods. Multiple dispatch is where functions are \"specialized\" based on the types of all of arguments.\n",
    "\n",
    "To understand, let's see some examples."
   ]
  },
  {
   "cell_type": "code",
   "execution_count": null,
   "metadata": {
    "collapsed": false,
    "slideshow": {
     "slide_type": "subslide"
    }
   },
   "outputs": [],
   "source": [
    "# My dumb function\n",
    "function mdf(a::Any, b::Any)\n",
    "    println(\"The type of a is $(string(typeof(a)))\")\n",
    "    println(\"The type of b is $(string(typeof(b)))\")\n",
    "\n",
    "    return nothing\n",
    "end"
   ]
  },
  {
   "cell_type": "code",
   "execution_count": null,
   "metadata": {
    "collapsed": false,
    "slideshow": {
     "slide_type": "-"
    }
   },
   "outputs": [],
   "source": [
    "mdf(1, 1)\n",
    "mdf(sum, 1//2)"
   ]
  },
  {
   "cell_type": "code",
   "execution_count": null,
   "metadata": {
    "collapsed": false,
    "slideshow": {
     "slide_type": "subslide"
    }
   },
   "outputs": [],
   "source": [
    "mdf(a::Number, b) = println(\"a is a number\")\n",
    "mdf(a, b::Number) = println(\"b is a number\")\n",
    "\n",
    "function mdf(a::Number, b::Number)\n",
    "    println(\"Ha! We're both numbers!!!\")\n",
    "\n",
    "    return nothing\n",
    "end"
   ]
  },
  {
   "cell_type": "code",
   "execution_count": null,
   "metadata": {
    "collapsed": false,
    "slideshow": {
     "slide_type": "fragment"
    }
   },
   "outputs": [],
   "source": [
    "# Remember some of these returned something\n",
    "# different before we defined a more specialized method\n",
    "mdf(1, 1)\n",
    "mdf(sum, 1//2)\n",
    "mdf(0.0, sum)"
   ]
  },
  {
   "cell_type": "markdown",
   "metadata": {
    "slideshow": {
     "slide_type": "subslide"
    }
   },
   "source": [
    "## Type Parameters\n",
    "\n",
    "Notice that below when we ask Julia the type of an array it gives us some additional information -- In particular, it tells us `Array{Float64, 1}`.\n",
    "\n",
    "The information inside the curly brackets is referred to as \"type parameters.\" Type parameters will allow us to further specialize our functions."
   ]
  },
  {
   "cell_type": "code",
   "execution_count": null,
   "metadata": {
    "collapsed": false,
    "slideshow": {
     "slide_type": "-"
    }
   },
   "outputs": [],
   "source": [
    "typeof(ones(3))"
   ]
  },
  {
   "cell_type": "code",
   "execution_count": null,
   "metadata": {
    "collapsed": false,
    "slideshow": {
     "slide_type": "subslide"
    }
   },
   "outputs": [],
   "source": [
    "function mdf{T<:AbstractFloat}(a::Vector{T}, b::Vector{T})\n",
    "    println(\"a and b are vectors with some kind of Float\")\n",
    "\n",
    "    return nothing\n",
    "end\n",
    "\n",
    "function mdf{T<:Integer}(a::Vector{T}, b::Vector{T})\n",
    "    println(\"a and b are vectors with some kind of integer\")\n",
    "\n",
    "    return nothing\n",
    "end"
   ]
  },
  {
   "cell_type": "code",
   "execution_count": null,
   "metadata": {
    "collapsed": false
   },
   "outputs": [],
   "source": [
    "mdf(ones(3), ones(3))\n",
    "mdf(ones(Int, 3), ones(Int, 3))"
   ]
  },
  {
   "cell_type": "markdown",
   "metadata": {
    "slideshow": {
     "slide_type": "subslide"
    }
   },
   "source": [
    "## User Types\n",
    "\n",
    "User defined types in Julia are a good idea. If you write Julia code, you should use your own types.\n",
    "\n",
    "When you do start defining your own types, do so [intelligently](http://docs.julialang.org/en/release-0.5/manual/performance-tips/#type-declarations) and as always it is recommended that you RTFD."
   ]
  },
  {
   "cell_type": "markdown",
   "metadata": {
    "slideshow": {
     "slide_type": "subslide"
    }
   },
   "source": [
    "### Type Example"
   ]
  },
  {
   "cell_type": "markdown",
   "metadata": {
    "slideshow": {
     "slide_type": "slide"
    }
   },
   "source": [
    "# Package System\n",
    "\n",
    "One of the tools that Julia provides is a built in package manager.\n",
    "\n",
    "All of the package manager commands are within the `Pkg` module, and are called by `Pkg.command(arg)`."
   ]
  },
  {
   "cell_type": "markdown",
   "metadata": {
    "slideshow": {
     "slide_type": "subslide"
    }
   },
   "source": [
    "Two types of packages\n",
    "\n",
    "* Registered: Mature package that has some sense of approval from the community\n",
    "* Unregistered: Less mature package that maybe is still developing basic functionality"
   ]
  },
  {
   "cell_type": "markdown",
   "metadata": {
    "slideshow": {
     "slide_type": "subslide"
    }
   },
   "source": [
    "## Adding and Removing Packages"
   ]
  },
  {
   "cell_type": "code",
   "execution_count": null,
   "metadata": {
    "collapsed": false,
    "slideshow": {
     "slide_type": "-"
    }
   },
   "outputs": [],
   "source": [
    "# Adds a registered package\n",
    "Pkg.add(\"ForwardDiff\")\n",
    "\n",
    "# Adds unregistered package\n",
    "Pkg.clone(\"https://github.com/cc7768/CHull2d.jl.git\")"
   ]
  },
  {
   "cell_type": "code",
   "execution_count": null,
   "metadata": {
    "collapsed": false,
    "slideshow": {
     "slide_type": "-"
    }
   },
   "outputs": [],
   "source": [
    "Pkg.rm(\"CHull2d\")"
   ]
  },
  {
   "cell_type": "markdown",
   "metadata": {},
   "source": [
    "## Updating Packages\n",
    "\n",
    "Packages can be updated to their most recent version by using `Pkg.update()`\n",
    "\n",
    "Running this command will update:\n",
    "\n",
    "- Your local `METADATA`, which tracks all versions of registered packages\n",
    "- Registered packages to latest version\n",
    "- Unregistered packages to most recent commit on active branch\n",
    "\n",
    "Doesn't update \"dirty\" packages (`git status` $\\neq$ clean)"
   ]
  },
  {
   "cell_type": "markdown",
   "metadata": {
    "slideshow": {
     "slide_type": "subslide"
    }
   },
   "source": [
    "## Plotting Packages\n",
    "\n",
    "At first glance it looks like a bit of a battle field\n",
    "\n",
    "* `PyPlot`\n",
    "* `Gadfly`\n",
    "* `PlotlyJS`\n",
    "* `GR`\n",
    "* `PGFPlots`\n",
    "* `UnicodePlots`\n",
    "* ...\n"
   ]
  },
  {
   "cell_type": "markdown",
   "metadata": {
    "slideshow": {
     "slide_type": "fragment"
    }
   },
   "source": [
    "Luckily, `Plots` gives us a simple set of commands to make plots and allows us access to most any of these plotting packages as the backend.\n",
    "\n",
    "We will only do a simple example of this, but I highly recommend reading the Plots [documentation](https://juliaplots.github.io/). The documentation is thorough and well maintained (3 gold stars to Tom Breloff!)"
   ]
  },
  {
   "cell_type": "code",
   "execution_count": 1,
   "metadata": {
    "collapsed": false,
    "slideshow": {
     "slide_type": "subslide"
    }
   },
   "outputs": [],
   "source": [
    "using Plots"
   ]
  },
  {
   "cell_type": "code",
   "execution_count": 7,
   "metadata": {
    "collapsed": false,
    "slideshow": {
     "slide_type": "-"
    }
   },
   "outputs": [
    {
     "name": "stderr",
     "output_type": "stream",
     "text": [
      "INFO: Precompiling module PyPlot.\n"
     ]
    },
    {
     "data": {
      "text/html": [
       "<img src=\"data:image/png;base64,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\" />"
      ]
     },
     "execution_count": 7,
     "metadata": {},
     "output_type": "execute_result"
    }
   ],
   "source": [
    "# plotlyjs()\n",
    "# unicodeplots()\n",
    "# pyplot()\n",
    "\n",
    "plot(rand(10))"
   ]
  },
  {
   "cell_type": "markdown",
   "metadata": {
    "slideshow": {
     "slide_type": "slide"
    }
   },
   "source": [
    "# Performance \"gotchas\""
   ]
  },
  {
   "cell_type": "code",
   "execution_count": null,
   "metadata": {
    "collapsed": true,
    "slideshow": {
     "slide_type": "-"
    }
   },
   "outputs": [],
   "source": [
    "using BenchmarkTools"
   ]
  },
  {
   "cell_type": "markdown",
   "metadata": {
    "slideshow": {
     "slide_type": "subslide"
    }
   },
   "source": [
    "## Type Stability"
   ]
  },
  {
   "cell_type": "code",
   "execution_count": null,
   "metadata": {
    "collapsed": false,
    "slideshow": {
     "slide_type": "subslide"
    }
   },
   "outputs": [],
   "source": [
    "function my_sum_unstable(N::Int)\n",
    "    total = 0\n",
    "    for i=1:N\n",
    "        total += i / N\n",
    "    end\n",
    "\n",
    "    return total\n",
    "end\n",
    "\n",
    "function my_sum_stable(N::Int)\n",
    "    total = 0.0\n",
    "    for i=1:N\n",
    "        total += i / N\n",
    "    end\n",
    "\n",
    "    return total\n",
    "end"
   ]
  },
  {
   "cell_type": "code",
   "execution_count": null,
   "metadata": {
    "collapsed": false,
    "slideshow": {
     "slide_type": "subslide"
    }
   },
   "outputs": [],
   "source": [
    "@benchmark my_sum_stable(10_000_000)"
   ]
  },
  {
   "cell_type": "code",
   "execution_count": null,
   "metadata": {
    "collapsed": false,
    "slideshow": {
     "slide_type": "subslide"
    }
   },
   "outputs": [],
   "source": [
    "@benchmark my_sum_unstable(10_000_000)"
   ]
  },
  {
   "cell_type": "code",
   "execution_count": null,
   "metadata": {
    "collapsed": false,
    "slideshow": {
     "slide_type": "subslide"
    }
   },
   "outputs": [],
   "source": [
    "@code_warntype my_sum_stable(10)"
   ]
  },
  {
   "cell_type": "code",
   "execution_count": null,
   "metadata": {
    "collapsed": false,
    "slideshow": {
     "slide_type": "subslide"
    }
   },
   "outputs": [],
   "source": [
    "@code_warntype my_sum_unstable(10)"
   ]
  },
  {
   "cell_type": "markdown",
   "metadata": {
    "slideshow": {
     "slide_type": "subslide"
    }
   },
   "source": [
    "## Access Memory Columnwise\n",
    "\n",
    "Julia is column-major which is especially important to be aware of if you do most of your programming in Python (which is row-major)."
   ]
  },
  {
   "cell_type": "code",
   "execution_count": null,
   "metadata": {
    "collapsed": false,
    "slideshow": {
     "slide_type": "subslide"
    }
   },
   "outputs": [],
   "source": [
    "function column_sum(A)\n",
    "    nrow, ncol = size(A)\n",
    "\n",
    "    total = 0.0\n",
    "    for c=1:ncol\n",
    "        for r=1:nrow\n",
    "            total = total + A[r, c]\n",
    "        end\n",
    "    end\n",
    "\n",
    "    return total\n",
    "end\n",
    "\n",
    "function row_sum(A)\n",
    "    nrow, ncol = size(A)\n",
    "\n",
    "    total = 0.0\n",
    "    for r=1:nrow\n",
    "        for c=1:ncol\n",
    "            total = total + A[r, c]\n",
    "        end\n",
    "    end\n",
    "\n",
    "    return total\n",
    "end"
   ]
  },
  {
   "cell_type": "code",
   "execution_count": null,
   "metadata": {
    "collapsed": false,
    "slideshow": {
     "slide_type": "subslide"
    }
   },
   "outputs": [],
   "source": [
    "A = randn(10_000, 10_000);"
   ]
  },
  {
   "cell_type": "code",
   "execution_count": null,
   "metadata": {
    "collapsed": false,
    "slideshow": {
     "slide_type": "subslide"
    }
   },
   "outputs": [],
   "source": [
    "@benchmark column_sum(A)"
   ]
  },
  {
   "cell_type": "code",
   "execution_count": null,
   "metadata": {
    "collapsed": false
   },
   "outputs": [],
   "source": [
    "@benchmark row_sum(A)"
   ]
  }
 ],
 "metadata": {
  "anaconda-cloud": {},
  "celltoolbar": "Slideshow",
  "kernelspec": {
   "display_name": "Julia 0.5.0-rc4",
   "language": "julia",
   "name": "julia-0.5"
  },
  "language_info": {
   "file_extension": ".jl",
   "mimetype": "application/julia",
   "name": "julia",
   "version": "0.5.0"
  },
  "nbpresent": {
   "slides": {},
   "themes": {}
  }
 },
 "nbformat": 4,
 "nbformat_minor": 1
}
